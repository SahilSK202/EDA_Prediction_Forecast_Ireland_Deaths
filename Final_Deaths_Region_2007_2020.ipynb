{
 "cells": [
  {
   "cell_type": "markdown",
   "metadata": {
    "id": "z8HcZJ3QHmq3"
   },
   "source": [
    "## Goal 🎯\n",
    "\n",
    "- Data Cleaning and Preprocessing\n",
    "- Data Visualization\n"
   ]
  },
  {
   "cell_type": "markdown",
   "metadata": {
    "id": "A_GyY7-3Hn92"
   },
   "source": [
    "## Libraries"
   ]
  },
  {
   "cell_type": "code",
   "execution_count": null,
   "metadata": {
    "id": "EIVNj96YHq_1"
   },
   "outputs": [],
   "source": [
    "import numpy as np\n",
    "import pandas as pd\n",
    "import pandas_profiling\n",
    "import seaborn as sns\n",
    "\n",
    "%matplotlib inline\n",
    "import matplotlib.pyplot as plt\n",
    "import plotly.express as px\n",
    "plt.style.use('ggplot')\n",
    "\n",
    "# Supressing the warning messages\n",
    "import warnings\n",
    "warnings.filterwarnings('ignore')"
   ]
  },
  {
   "cell_type": "code",
   "execution_count": null,
   "metadata": {},
   "outputs": [],
   "source": [
    "path = \"path to files\""
   ]
  },
  {
   "cell_type": "markdown",
   "metadata": {
    "id": "SauJe5nNHtj_"
   },
   "source": [
    "## Importing Data"
   ]
  },
  {
   "cell_type": "code",
   "execution_count": null,
   "metadata": {
    "colab": {
     "base_uri": "https://localhost:8080/",
     "height": 380
    },
    "id": "k6-efRKmHwKI",
    "outputId": "fffa80ae-0885-4d10-cee3-727dfae8cebd"
   },
   "outputs": [
    {
     "name": "stdout",
     "output_type": "stream",
     "text": [
      "(123480, 7)\n"
     ]
    },
    {
     "data": {
      "text/html": [
       "<div>\n",
       "<style scoped>\n",
       "    .dataframe tbody tr th:only-of-type {\n",
       "        vertical-align: middle;\n",
       "    }\n",
       "\n",
       "    .dataframe tbody tr th {\n",
       "        vertical-align: top;\n",
       "    }\n",
       "\n",
       "    .dataframe thead th {\n",
       "        text-align: right;\n",
       "    }\n",
       "</style>\n",
       "<table border=\"1\" class=\"dataframe\">\n",
       "  <thead>\n",
       "    <tr style=\"text-align: right;\">\n",
       "      <th></th>\n",
       "      <th>Statistic</th>\n",
       "      <th>Year</th>\n",
       "      <th>Area of Residence</th>\n",
       "      <th>Sex</th>\n",
       "      <th>Age at Death</th>\n",
       "      <th>UNIT</th>\n",
       "      <th>VALUE</th>\n",
       "    </tr>\n",
       "  </thead>\n",
       "  <tbody>\n",
       "    <tr>\n",
       "      <th>0</th>\n",
       "      <td>Deaths Occurring</td>\n",
       "      <td>2007</td>\n",
       "      <td>ROI Total</td>\n",
       "      <td>Both sexes</td>\n",
       "      <td>Under 1 year</td>\n",
       "      <td>Number</td>\n",
       "      <td>230.0</td>\n",
       "    </tr>\n",
       "    <tr>\n",
       "      <th>1</th>\n",
       "      <td>Deaths Occurring</td>\n",
       "      <td>2007</td>\n",
       "      <td>ROI Total</td>\n",
       "      <td>Both sexes</td>\n",
       "      <td>1 - 4 years</td>\n",
       "      <td>Number</td>\n",
       "      <td>54.0</td>\n",
       "    </tr>\n",
       "    <tr>\n",
       "      <th>2</th>\n",
       "      <td>Deaths Occurring</td>\n",
       "      <td>2007</td>\n",
       "      <td>ROI Total</td>\n",
       "      <td>Both sexes</td>\n",
       "      <td>5 - 9 years</td>\n",
       "      <td>Number</td>\n",
       "      <td>17.0</td>\n",
       "    </tr>\n",
       "    <tr>\n",
       "      <th>3</th>\n",
       "      <td>Deaths Occurring</td>\n",
       "      <td>2007</td>\n",
       "      <td>ROI Total</td>\n",
       "      <td>Both sexes</td>\n",
       "      <td>10 - 14 years</td>\n",
       "      <td>Number</td>\n",
       "      <td>50.0</td>\n",
       "    </tr>\n",
       "    <tr>\n",
       "      <th>4</th>\n",
       "      <td>Deaths Occurring</td>\n",
       "      <td>2007</td>\n",
       "      <td>ROI Total</td>\n",
       "      <td>Both sexes</td>\n",
       "      <td>15 - 19 years</td>\n",
       "      <td>Number</td>\n",
       "      <td>149.0</td>\n",
       "    </tr>\n",
       "    <tr>\n",
       "      <th>5</th>\n",
       "      <td>Deaths Occurring</td>\n",
       "      <td>2007</td>\n",
       "      <td>ROI Total</td>\n",
       "      <td>Both sexes</td>\n",
       "      <td>20 - 24 years</td>\n",
       "      <td>Number</td>\n",
       "      <td>202.0</td>\n",
       "    </tr>\n",
       "    <tr>\n",
       "      <th>6</th>\n",
       "      <td>Deaths Occurring</td>\n",
       "      <td>2007</td>\n",
       "      <td>ROI Total</td>\n",
       "      <td>Both sexes</td>\n",
       "      <td>25 - 29 years</td>\n",
       "      <td>Number</td>\n",
       "      <td>248.0</td>\n",
       "    </tr>\n",
       "    <tr>\n",
       "      <th>7</th>\n",
       "      <td>Deaths Occurring</td>\n",
       "      <td>2007</td>\n",
       "      <td>ROI Total</td>\n",
       "      <td>Both sexes</td>\n",
       "      <td>30 - 34 years</td>\n",
       "      <td>Number</td>\n",
       "      <td>248.0</td>\n",
       "    </tr>\n",
       "    <tr>\n",
       "      <th>8</th>\n",
       "      <td>Deaths Occurring</td>\n",
       "      <td>2007</td>\n",
       "      <td>ROI Total</td>\n",
       "      <td>Both sexes</td>\n",
       "      <td>35 - 39 years</td>\n",
       "      <td>Number</td>\n",
       "      <td>295.0</td>\n",
       "    </tr>\n",
       "    <tr>\n",
       "      <th>9</th>\n",
       "      <td>Deaths Occurring</td>\n",
       "      <td>2007</td>\n",
       "      <td>ROI Total</td>\n",
       "      <td>Both sexes</td>\n",
       "      <td>40 - 44 years</td>\n",
       "      <td>Number</td>\n",
       "      <td>402.0</td>\n",
       "    </tr>\n",
       "  </tbody>\n",
       "</table>\n",
       "</div>"
      ],
      "text/plain": [
       "          Statistic  Year Area of Residence  ...   Age at Death    UNIT  VALUE\n",
       "0  Deaths Occurring  2007         ROI Total  ...   Under 1 year  Number  230.0\n",
       "1  Deaths Occurring  2007         ROI Total  ...    1 - 4 years  Number   54.0\n",
       "2  Deaths Occurring  2007         ROI Total  ...    5 - 9 years  Number   17.0\n",
       "3  Deaths Occurring  2007         ROI Total  ...  10 - 14 years  Number   50.0\n",
       "4  Deaths Occurring  2007         ROI Total  ...  15 - 19 years  Number  149.0\n",
       "5  Deaths Occurring  2007         ROI Total  ...  20 - 24 years  Number  202.0\n",
       "6  Deaths Occurring  2007         ROI Total  ...  25 - 29 years  Number  248.0\n",
       "7  Deaths Occurring  2007         ROI Total  ...  30 - 34 years  Number  248.0\n",
       "8  Deaths Occurring  2007         ROI Total  ...  35 - 39 years  Number  295.0\n",
       "9  Deaths Occurring  2007         ROI Total  ...  40 - 44 years  Number  402.0\n",
       "\n",
       "[10 rows x 7 columns]"
      ]
     },
     "execution_count": 2,
     "metadata": {},
     "output_type": "execute_result"
    }
   ],
   "source": [
    "data = pd.read_csv(path+\"/data/Deaths_Region_2007-2020.csv\")\n",
    "print(data.shape)\n",
    "data.head(10)"
   ]
  },
  {
   "cell_type": "code",
   "execution_count": null,
   "metadata": {
    "colab": {
     "base_uri": "https://localhost:8080/",
     "height": 363
    },
    "id": "HEHHyfgAhkhb",
    "outputId": "c1690f7c-5d29-408c-ffdc-eecd1f3b1ca3"
   },
   "outputs": [
    {
     "data": {
      "text/html": [
       "<div>\n",
       "<style scoped>\n",
       "    .dataframe tbody tr th:only-of-type {\n",
       "        vertical-align: middle;\n",
       "    }\n",
       "\n",
       "    .dataframe tbody tr th {\n",
       "        vertical-align: top;\n",
       "    }\n",
       "\n",
       "    .dataframe thead th {\n",
       "        text-align: right;\n",
       "    }\n",
       "</style>\n",
       "<table border=\"1\" class=\"dataframe\">\n",
       "  <thead>\n",
       "    <tr style=\"text-align: right;\">\n",
       "      <th></th>\n",
       "      <th>Statistic</th>\n",
       "      <th>Year</th>\n",
       "      <th>Area of Residence</th>\n",
       "      <th>Sex</th>\n",
       "      <th>Age at Death</th>\n",
       "      <th>UNIT</th>\n",
       "      <th>VALUE</th>\n",
       "    </tr>\n",
       "  </thead>\n",
       "  <tbody>\n",
       "    <tr>\n",
       "      <th>123470</th>\n",
       "      <td>Deaths Occurring</td>\n",
       "      <td>2020</td>\n",
       "      <td>Outside the ROI Total</td>\n",
       "      <td>Female</td>\n",
       "      <td>45 - 49 years</td>\n",
       "      <td>Number</td>\n",
       "      <td>NaN</td>\n",
       "    </tr>\n",
       "    <tr>\n",
       "      <th>123471</th>\n",
       "      <td>Deaths Occurring</td>\n",
       "      <td>2020</td>\n",
       "      <td>Outside the ROI Total</td>\n",
       "      <td>Female</td>\n",
       "      <td>50 - 54 years</td>\n",
       "      <td>Number</td>\n",
       "      <td>NaN</td>\n",
       "    </tr>\n",
       "    <tr>\n",
       "      <th>123472</th>\n",
       "      <td>Deaths Occurring</td>\n",
       "      <td>2020</td>\n",
       "      <td>Outside the ROI Total</td>\n",
       "      <td>Female</td>\n",
       "      <td>55 - 59 years</td>\n",
       "      <td>Number</td>\n",
       "      <td>NaN</td>\n",
       "    </tr>\n",
       "    <tr>\n",
       "      <th>123473</th>\n",
       "      <td>Deaths Occurring</td>\n",
       "      <td>2020</td>\n",
       "      <td>Outside the ROI Total</td>\n",
       "      <td>Female</td>\n",
       "      <td>60 - 64 years</td>\n",
       "      <td>Number</td>\n",
       "      <td>NaN</td>\n",
       "    </tr>\n",
       "    <tr>\n",
       "      <th>123474</th>\n",
       "      <td>Deaths Occurring</td>\n",
       "      <td>2020</td>\n",
       "      <td>Outside the ROI Total</td>\n",
       "      <td>Female</td>\n",
       "      <td>65 - 69 years</td>\n",
       "      <td>Number</td>\n",
       "      <td>NaN</td>\n",
       "    </tr>\n",
       "    <tr>\n",
       "      <th>123475</th>\n",
       "      <td>Deaths Occurring</td>\n",
       "      <td>2020</td>\n",
       "      <td>Outside the ROI Total</td>\n",
       "      <td>Female</td>\n",
       "      <td>70 - 74 years</td>\n",
       "      <td>Number</td>\n",
       "      <td>NaN</td>\n",
       "    </tr>\n",
       "    <tr>\n",
       "      <th>123476</th>\n",
       "      <td>Deaths Occurring</td>\n",
       "      <td>2020</td>\n",
       "      <td>Outside the ROI Total</td>\n",
       "      <td>Female</td>\n",
       "      <td>75 - 79 years</td>\n",
       "      <td>Number</td>\n",
       "      <td>NaN</td>\n",
       "    </tr>\n",
       "    <tr>\n",
       "      <th>123477</th>\n",
       "      <td>Deaths Occurring</td>\n",
       "      <td>2020</td>\n",
       "      <td>Outside the ROI Total</td>\n",
       "      <td>Female</td>\n",
       "      <td>80 - 84 years</td>\n",
       "      <td>Number</td>\n",
       "      <td>NaN</td>\n",
       "    </tr>\n",
       "    <tr>\n",
       "      <th>123478</th>\n",
       "      <td>Deaths Occurring</td>\n",
       "      <td>2020</td>\n",
       "      <td>Outside the ROI Total</td>\n",
       "      <td>Female</td>\n",
       "      <td>85 years and over</td>\n",
       "      <td>Number</td>\n",
       "      <td>NaN</td>\n",
       "    </tr>\n",
       "    <tr>\n",
       "      <th>123479</th>\n",
       "      <td>Deaths Occurring</td>\n",
       "      <td>2020</td>\n",
       "      <td>Outside the ROI Total</td>\n",
       "      <td>Female</td>\n",
       "      <td>All ages</td>\n",
       "      <td>Number</td>\n",
       "      <td>NaN</td>\n",
       "    </tr>\n",
       "  </tbody>\n",
       "</table>\n",
       "</div>"
      ],
      "text/plain": [
       "               Statistic  Year  ...    UNIT VALUE\n",
       "123470  Deaths Occurring  2020  ...  Number   NaN\n",
       "123471  Deaths Occurring  2020  ...  Number   NaN\n",
       "123472  Deaths Occurring  2020  ...  Number   NaN\n",
       "123473  Deaths Occurring  2020  ...  Number   NaN\n",
       "123474  Deaths Occurring  2020  ...  Number   NaN\n",
       "123475  Deaths Occurring  2020  ...  Number   NaN\n",
       "123476  Deaths Occurring  2020  ...  Number   NaN\n",
       "123477  Deaths Occurring  2020  ...  Number   NaN\n",
       "123478  Deaths Occurring  2020  ...  Number   NaN\n",
       "123479  Deaths Occurring  2020  ...  Number   NaN\n",
       "\n",
       "[10 rows x 7 columns]"
      ]
     },
     "execution_count": 3,
     "metadata": {},
     "output_type": "execute_result"
    }
   ],
   "source": [
    "data.tail(10)"
   ]
  },
  {
   "cell_type": "markdown",
   "metadata": {
    "id": "OzZUnMHuIfAt"
   },
   "source": [
    "## About Data\n",
    "- Data is about deaths occured in a particular regions over the time of year 2007 to 2020\n",
    "- We have 123480 rows and 7 columns in the dataset"
   ]
  },
  {
   "cell_type": "markdown",
   "metadata": {
    "id": "f-Fd3VcSIkLc"
   },
   "source": [
    "## Data Cleaning and Preprocessing"
   ]
  },
  {
   "cell_type": "code",
   "execution_count": null,
   "metadata": {
    "colab": {
     "base_uri": "https://localhost:8080/"
    },
    "id": "y8ug0wriIlhI",
    "outputId": "fc2735fb-e174-41b0-b0f6-9bbb47e1a58a"
   },
   "outputs": [
    {
     "data": {
      "text/plain": [
       "Statistic                0\n",
       "Year                     0\n",
       "Area of Residence        0\n",
       "Sex                      0\n",
       "Age at Death             0\n",
       "UNIT                     0\n",
       "VALUE                52331\n",
       "dtype: int64"
      ]
     },
     "execution_count": 4,
     "metadata": {},
     "output_type": "execute_result"
    }
   ],
   "source": [
    "data.isna().sum()"
   ]
  },
  {
   "cell_type": "code",
   "execution_count": null,
   "metadata": {
    "colab": {
     "base_uri": "https://localhost:8080/"
    },
    "id": "antYbf5KIljo",
    "outputId": "ce450d20-df63-46e0-8e5c-b522b8d6f134"
   },
   "outputs": [
    {
     "data": {
      "text/plain": [
       "0"
      ]
     },
     "execution_count": 5,
     "metadata": {},
     "output_type": "execute_result"
    }
   ],
   "source": [
    "data.duplicated().sum()"
   ]
  },
  {
   "cell_type": "code",
   "execution_count": null,
   "metadata": {
    "colab": {
     "base_uri": "https://localhost:8080/"
    },
    "id": "_X7_kD_2u9vn",
    "outputId": "e7faf0c2-9d91-4b22-8c91-6e23dd85820c"
   },
   "outputs": [
    {
     "name": "stdout",
     "output_type": "stream",
     "text": [
      "42.38 % missing data is found\n"
     ]
    }
   ],
   "source": [
    "print(round((52331/data.shape[0])*100,2),\"% missing data is found\")"
   ]
  },
  {
   "cell_type": "code",
   "execution_count": null,
   "metadata": {
    "colab": {
     "base_uri": "https://localhost:8080/"
    },
    "id": "M6AWfcT8IloZ",
    "outputId": "ad521658-1a44-4c4e-b5bf-a43d8ea40f83"
   },
   "outputs": [
    {
     "data": {
      "text/plain": [
       "Statistic               1\n",
       "UNIT                    1\n",
       "Sex                     3\n",
       "Year                   14\n",
       "Age at Death           20\n",
       "Area of Residence     147\n",
       "VALUE                1661\n",
       "dtype: int64"
      ]
     },
     "execution_count": 7,
     "metadata": {},
     "output_type": "execute_result"
    }
   ],
   "source": [
    "data.nunique().sort_values()"
   ]
  },
  {
   "cell_type": "markdown",
   "metadata": {
    "id": "mL_MZ7PfI1cC"
   },
   "source": [
    "It seems that all the values for Statistic, Unit are same. Let's have a look at categorical columns."
   ]
  },
  {
   "cell_type": "code",
   "execution_count": null,
   "metadata": {
    "colab": {
     "base_uri": "https://localhost:8080/"
    },
    "id": "QrC5DjA2Ilq3",
    "outputId": "2577615b-24f7-405f-a0fb-19f8a0df2c22"
   },
   "outputs": [
    {
     "name": "stdout",
     "output_type": "stream",
     "text": [
      "Statistic ['Deaths Occurring']\n",
      "UNIT ['Number']\n",
      "Sex ['Both sexes' 'Male' 'Female']\n",
      "Year [2007 2008 2009 2010 2011 2012 2013 2014 2015 2016 2017 2018 2019 2020]\n",
      "Age at Death ['Under 1 year' '1 - 4 years' '5 - 9 years' '10 - 14 years'\n",
      " '15 - 19 years' '20 - 24 years' '25 - 29 years' '30 - 34 years'\n",
      " '35 - 39 years' '40 - 44 years' '45 - 49 years' '50 - 54 years'\n",
      " '55 - 59 years' '60 - 64 years' '65 - 69 years' '70 - 74 years'\n",
      " '75 - 79 years' '80 - 84 years' '85 years and over' 'All ages']\n"
     ]
    }
   ],
   "source": [
    "for column in data[[\"Statistic\",\"UNIT\", \"Sex\",\"Year\", \"Age at Death\"]]:\n",
    "    print(column,data[column].unique())"
   ]
  },
  {
   "cell_type": "markdown",
   "metadata": {
    "id": "tLbNhbj5I9u6"
   },
   "source": [
    "#### Observations\n",
    "1. As we can see columns Statistic and Unit have single value all over data hence not useful for us. We will drop those columns\n",
    "2. Sex column has third value Both sexes. We have to check if it is combined of male + female count or something else incomplete data\n",
    "3. All ages value in \"Age at Death\" column , is it sum of all deaths of all ages groups ?"
   ]
  },
  {
   "cell_type": "code",
   "execution_count": null,
   "metadata": {
    "colab": {
     "base_uri": "https://localhost:8080/"
    },
    "id": "Nx4z-zHoIlv2",
    "outputId": "b618eccf-4948-496e-a95a-d5eb77fdc603"
   },
   "outputs": [
    {
     "name": "stdout",
     "output_type": "stream",
     "text": [
      "Shape before deleting cols: (123480, 7)\n",
      "Shape After deleting cols: (123480, 5)\n"
     ]
    }
   ],
   "source": [
    "temp_cols = [\"Statistic\", \"UNIT\" ] \n",
    "\n",
    "print('Shape before deleting cols:', data.shape)\n",
    "data.drop(temp_cols, axis=1, inplace=True)\n",
    "print('Shape After deleting cols:', data.shape)"
   ]
  },
  {
   "cell_type": "markdown",
   "metadata": {
    "id": "jepQUwoKJY9L"
   },
   "source": [
    "We will make separate columns as male, female and Both sexes grouping by the column Age at Death.\n",
    "Restructure data in a better and efficient way"
   ]
  },
  {
   "cell_type": "code",
   "execution_count": null,
   "metadata": {
    "colab": {
     "base_uri": "https://localhost:8080/",
     "height": 423
    },
    "id": "tMA2fOvhIl3Z",
    "outputId": "78401e1b-8cbe-476e-fc2c-2394024ac9db"
   },
   "outputs": [
    {
     "data": {
      "text/html": [
       "<div>\n",
       "<style scoped>\n",
       "    .dataframe tbody tr th:only-of-type {\n",
       "        vertical-align: middle;\n",
       "    }\n",
       "\n",
       "    .dataframe tbody tr th {\n",
       "        vertical-align: top;\n",
       "    }\n",
       "\n",
       "    .dataframe thead th {\n",
       "        text-align: right;\n",
       "    }\n",
       "</style>\n",
       "<table border=\"1\" class=\"dataframe\">\n",
       "  <thead>\n",
       "    <tr style=\"text-align: right;\">\n",
       "      <th></th>\n",
       "      <th>Area of Residence</th>\n",
       "      <th>Year</th>\n",
       "      <th>Age at Death</th>\n",
       "      <th>Both sexes</th>\n",
       "      <th>Female</th>\n",
       "      <th>Male</th>\n",
       "    </tr>\n",
       "  </thead>\n",
       "  <tbody>\n",
       "    <tr>\n",
       "      <th>0</th>\n",
       "      <td>Ardee</td>\n",
       "      <td>2007</td>\n",
       "      <td>1 - 4 years</td>\n",
       "      <td>NaN</td>\n",
       "      <td>NaN</td>\n",
       "      <td>NaN</td>\n",
       "    </tr>\n",
       "    <tr>\n",
       "      <th>1</th>\n",
       "      <td>Ardee</td>\n",
       "      <td>2007</td>\n",
       "      <td>10 - 14 years</td>\n",
       "      <td>NaN</td>\n",
       "      <td>NaN</td>\n",
       "      <td>NaN</td>\n",
       "    </tr>\n",
       "    <tr>\n",
       "      <th>2</th>\n",
       "      <td>Ardee</td>\n",
       "      <td>2007</td>\n",
       "      <td>15 - 19 years</td>\n",
       "      <td>NaN</td>\n",
       "      <td>NaN</td>\n",
       "      <td>NaN</td>\n",
       "    </tr>\n",
       "    <tr>\n",
       "      <th>3</th>\n",
       "      <td>Ardee</td>\n",
       "      <td>2007</td>\n",
       "      <td>20 - 24 years</td>\n",
       "      <td>NaN</td>\n",
       "      <td>NaN</td>\n",
       "      <td>NaN</td>\n",
       "    </tr>\n",
       "    <tr>\n",
       "      <th>4</th>\n",
       "      <td>Ardee</td>\n",
       "      <td>2007</td>\n",
       "      <td>25 - 29 years</td>\n",
       "      <td>NaN</td>\n",
       "      <td>NaN</td>\n",
       "      <td>NaN</td>\n",
       "    </tr>\n",
       "    <tr>\n",
       "      <th>...</th>\n",
       "      <td>...</td>\n",
       "      <td>...</td>\n",
       "      <td>...</td>\n",
       "      <td>...</td>\n",
       "      <td>...</td>\n",
       "      <td>...</td>\n",
       "    </tr>\n",
       "    <tr>\n",
       "      <th>41155</th>\n",
       "      <td>Youghal Town</td>\n",
       "      <td>2020</td>\n",
       "      <td>75 - 79 years</td>\n",
       "      <td>NaN</td>\n",
       "      <td>NaN</td>\n",
       "      <td>NaN</td>\n",
       "    </tr>\n",
       "    <tr>\n",
       "      <th>41156</th>\n",
       "      <td>Youghal Town</td>\n",
       "      <td>2020</td>\n",
       "      <td>80 - 84 years</td>\n",
       "      <td>NaN</td>\n",
       "      <td>NaN</td>\n",
       "      <td>NaN</td>\n",
       "    </tr>\n",
       "    <tr>\n",
       "      <th>41157</th>\n",
       "      <td>Youghal Town</td>\n",
       "      <td>2020</td>\n",
       "      <td>85 years and over</td>\n",
       "      <td>NaN</td>\n",
       "      <td>NaN</td>\n",
       "      <td>NaN</td>\n",
       "    </tr>\n",
       "    <tr>\n",
       "      <th>41158</th>\n",
       "      <td>Youghal Town</td>\n",
       "      <td>2020</td>\n",
       "      <td>All ages</td>\n",
       "      <td>NaN</td>\n",
       "      <td>NaN</td>\n",
       "      <td>NaN</td>\n",
       "    </tr>\n",
       "    <tr>\n",
       "      <th>41159</th>\n",
       "      <td>Youghal Town</td>\n",
       "      <td>2020</td>\n",
       "      <td>Under 1 year</td>\n",
       "      <td>NaN</td>\n",
       "      <td>NaN</td>\n",
       "      <td>NaN</td>\n",
       "    </tr>\n",
       "  </tbody>\n",
       "</table>\n",
       "<p>41160 rows × 6 columns</p>\n",
       "</div>"
      ],
      "text/plain": [
       "      Area of Residence  Year       Age at Death  Both sexes  Female  Male\n",
       "0                 Ardee  2007        1 - 4 years         NaN     NaN   NaN\n",
       "1                 Ardee  2007      10 - 14 years         NaN     NaN   NaN\n",
       "2                 Ardee  2007      15 - 19 years         NaN     NaN   NaN\n",
       "3                 Ardee  2007      20 - 24 years         NaN     NaN   NaN\n",
       "4                 Ardee  2007      25 - 29 years         NaN     NaN   NaN\n",
       "...                 ...   ...                ...         ...     ...   ...\n",
       "41155      Youghal Town  2020      75 - 79 years         NaN     NaN   NaN\n",
       "41156      Youghal Town  2020      80 - 84 years         NaN     NaN   NaN\n",
       "41157      Youghal Town  2020  85 years and over         NaN     NaN   NaN\n",
       "41158      Youghal Town  2020           All ages         NaN     NaN   NaN\n",
       "41159      Youghal Town  2020       Under 1 year         NaN     NaN   NaN\n",
       "\n",
       "[41160 rows x 6 columns]"
      ]
     },
     "execution_count": 10,
     "metadata": {},
     "output_type": "execute_result"
    }
   ],
   "source": [
    "data = data.set_index(['Sex'] + ['Area of Residence','Year', 'Age at Death'  ]).unstack('Sex')\n",
    "data = data.VALUE.rename_axis([None], axis=1).reset_index()\n",
    "data"
   ]
  },
  {
   "cell_type": "code",
   "execution_count": null,
   "metadata": {
    "id": "fdJR_Zx8y8yJ"
   },
   "outputs": [],
   "source": [
    "data = data[(data[\"Age at Death\"] != \"All ages\")]\n",
    "data.drop(\"Both sexes\", axis=1, inplace=True)"
   ]
  },
  {
   "cell_type": "code",
   "execution_count": null,
   "metadata": {
    "colab": {
     "base_uri": "https://localhost:8080/"
    },
    "id": "ErySBJzEyha1",
    "outputId": "e4adc5dc-423b-41ae-fb51-6c5e1c090500"
   },
   "outputs": [
    {
     "data": {
      "text/plain": [
       "Area of Residence        0\n",
       "Year                     0\n",
       "Age at Death             0\n",
       "Female               18309\n",
       "Male                 16891\n",
       "dtype: int64"
      ]
     },
     "execution_count": 12,
     "metadata": {},
     "output_type": "execute_result"
    }
   ],
   "source": [
    "data.isna().sum()"
   ]
  },
  {
   "cell_type": "code",
   "execution_count": null,
   "metadata": {
    "colab": {
     "base_uri": "https://localhost:8080/"
    },
    "id": "OszxuRCey80o",
    "outputId": "4a44bebd-def2-4306-d4f2-c1ba93057c14"
   },
   "outputs": [
    {
     "data": {
      "text/plain": [
       "Year                  14\n",
       "Age at Death          19\n",
       "Area of Residence    147\n",
       "Female               571\n",
       "Male                 599\n",
       "dtype: int64"
      ]
     },
     "execution_count": 13,
     "metadata": {},
     "output_type": "execute_result"
    }
   ],
   "source": [
    "data.nunique().sort_values()"
   ]
  },
  {
   "cell_type": "code",
   "execution_count": null,
   "metadata": {
    "colab": {
     "base_uri": "https://localhost:8080/"
    },
    "id": "y622EM1ty83f",
    "outputId": "cc039aec-a389-40d9-99eb-8b066c3c3d72"
   },
   "outputs": [
    {
     "data": {
      "text/plain": [
       "Area of Residence   \n",
       "Youghal Town            266\n",
       "Donegal                 266\n",
       "Kells Town              266\n",
       "Greystones              266\n",
       "Granard                 266\n",
       "                       ... \n",
       "Rest of Co. Cavan       266\n",
       "Rest of Co. Carlow      266\n",
       "Rest of Co Tipperary    266\n",
       "ROI Total               266\n",
       "Ardee                   266\n",
       "Length: 147, dtype: int64"
      ]
     },
     "execution_count": 14,
     "metadata": {},
     "output_type": "execute_result"
    }
   ],
   "source": [
    "res = data[[\"Area of Residence\"]].value_counts()\n",
    "res"
   ]
  },
  {
   "cell_type": "code",
   "execution_count": null,
   "metadata": {
    "colab": {
     "base_uri": "https://localhost:8080/"
    },
    "id": "kIIkPWT7zsj4",
    "outputId": "7da18272-47aa-49a3-eb0b-f6f15c67054d"
   },
   "outputs": [
    {
     "data": {
      "text/plain": [
       "{266}"
      ]
     },
     "execution_count": 15,
     "metadata": {},
     "output_type": "execute_result"
    }
   ],
   "source": [
    "set(res.values)"
   ]
  },
  {
   "cell_type": "code",
   "execution_count": null,
   "metadata": {
    "colab": {
     "base_uri": "https://localhost:8080/",
     "height": 206
    },
    "id": "Wpl6TwG71EAe",
    "outputId": "af75c1a5-0646-49a4-94b4-69ee53490104"
   },
   "outputs": [
    {
     "data": {
      "text/html": [
       "<div>\n",
       "<style scoped>\n",
       "    .dataframe tbody tr th:only-of-type {\n",
       "        vertical-align: middle;\n",
       "    }\n",
       "\n",
       "    .dataframe tbody tr th {\n",
       "        vertical-align: top;\n",
       "    }\n",
       "\n",
       "    .dataframe thead th {\n",
       "        text-align: right;\n",
       "    }\n",
       "</style>\n",
       "<table border=\"1\" class=\"dataframe\">\n",
       "  <thead>\n",
       "    <tr style=\"text-align: right;\">\n",
       "      <th></th>\n",
       "      <th>Area of Residence</th>\n",
       "      <th>Year</th>\n",
       "      <th>Age at Death</th>\n",
       "      <th>Female</th>\n",
       "      <th>Male</th>\n",
       "      <th>nan_check</th>\n",
       "    </tr>\n",
       "  </thead>\n",
       "  <tbody>\n",
       "    <tr>\n",
       "      <th>0</th>\n",
       "      <td>Ardee</td>\n",
       "      <td>2007</td>\n",
       "      <td>1 - 4 years</td>\n",
       "      <td>NaN</td>\n",
       "      <td>NaN</td>\n",
       "      <td>1</td>\n",
       "    </tr>\n",
       "    <tr>\n",
       "      <th>1</th>\n",
       "      <td>Ardee</td>\n",
       "      <td>2007</td>\n",
       "      <td>10 - 14 years</td>\n",
       "      <td>NaN</td>\n",
       "      <td>NaN</td>\n",
       "      <td>1</td>\n",
       "    </tr>\n",
       "    <tr>\n",
       "      <th>2</th>\n",
       "      <td>Ardee</td>\n",
       "      <td>2007</td>\n",
       "      <td>15 - 19 years</td>\n",
       "      <td>NaN</td>\n",
       "      <td>NaN</td>\n",
       "      <td>1</td>\n",
       "    </tr>\n",
       "    <tr>\n",
       "      <th>3</th>\n",
       "      <td>Ardee</td>\n",
       "      <td>2007</td>\n",
       "      <td>20 - 24 years</td>\n",
       "      <td>NaN</td>\n",
       "      <td>NaN</td>\n",
       "      <td>1</td>\n",
       "    </tr>\n",
       "    <tr>\n",
       "      <th>4</th>\n",
       "      <td>Ardee</td>\n",
       "      <td>2007</td>\n",
       "      <td>25 - 29 years</td>\n",
       "      <td>NaN</td>\n",
       "      <td>NaN</td>\n",
       "      <td>1</td>\n",
       "    </tr>\n",
       "  </tbody>\n",
       "</table>\n",
       "</div>"
      ],
      "text/plain": [
       "  Area of Residence  Year   Age at Death  Female  Male  nan_check\n",
       "0             Ardee  2007    1 - 4 years     NaN   NaN          1\n",
       "1             Ardee  2007  10 - 14 years     NaN   NaN          1\n",
       "2             Ardee  2007  15 - 19 years     NaN   NaN          1\n",
       "3             Ardee  2007  20 - 24 years     NaN   NaN          1\n",
       "4             Ardee  2007  25 - 29 years     NaN   NaN          1"
      ]
     },
     "execution_count": 16,
     "metadata": {},
     "output_type": "execute_result"
    }
   ],
   "source": [
    "data[\"nan_check\"] = [1 if i else 0 for i in data['Male'].isnull().values]\n",
    "data.head()"
   ]
  },
  {
   "cell_type": "markdown",
   "metadata": {
    "id": "ro32Djkxp39c"
   },
   "source": [
    " Getting Area of Residences with having highes missing values so that we can drop those cities and for rest we will do missing value treatment"
   ]
  },
  {
   "cell_type": "code",
   "execution_count": null,
   "metadata": {
    "colab": {
     "base_uri": "https://localhost:8080/",
     "height": 455
    },
    "id": "IWhxiIVD1EC1",
    "outputId": "4f79de48-1db9-42c2-8a1a-2570754ba3cb"
   },
   "outputs": [
    {
     "data": {
      "text/html": [
       "<div>\n",
       "<style scoped>\n",
       "    .dataframe tbody tr th:only-of-type {\n",
       "        vertical-align: middle;\n",
       "    }\n",
       "\n",
       "    .dataframe tbody tr th {\n",
       "        vertical-align: top;\n",
       "    }\n",
       "\n",
       "    .dataframe thead th {\n",
       "        text-align: right;\n",
       "    }\n",
       "</style>\n",
       "<table border=\"1\" class=\"dataframe\">\n",
       "  <thead>\n",
       "    <tr style=\"text-align: right;\">\n",
       "      <th></th>\n",
       "      <th>nan_check</th>\n",
       "    </tr>\n",
       "    <tr>\n",
       "      <th>Area of Residence</th>\n",
       "      <th></th>\n",
       "    </tr>\n",
       "  </thead>\n",
       "  <tbody>\n",
       "    <tr>\n",
       "      <th>Outside the ROI Total</th>\n",
       "      <td>266</td>\n",
       "    </tr>\n",
       "    <tr>\n",
       "      <th>Rest of Fingal</th>\n",
       "      <td>248</td>\n",
       "    </tr>\n",
       "    <tr>\n",
       "      <th>Rest of Co Tipperary</th>\n",
       "      <td>247</td>\n",
       "    </tr>\n",
       "    <tr>\n",
       "      <th>Ballybay</th>\n",
       "      <td>222</td>\n",
       "    </tr>\n",
       "    <tr>\n",
       "      <th>Kilkee</th>\n",
       "      <td>220</td>\n",
       "    </tr>\n",
       "    <tr>\n",
       "      <th>...</th>\n",
       "      <td>...</td>\n",
       "    </tr>\n",
       "    <tr>\n",
       "      <th>Cork County</th>\n",
       "      <td>3</td>\n",
       "    </tr>\n",
       "    <tr>\n",
       "      <th>Leinster</th>\n",
       "      <td>1</td>\n",
       "    </tr>\n",
       "    <tr>\n",
       "      <th>Connacht</th>\n",
       "      <td>1</td>\n",
       "    </tr>\n",
       "    <tr>\n",
       "      <th>Munster</th>\n",
       "      <td>0</td>\n",
       "    </tr>\n",
       "    <tr>\n",
       "      <th>ROI Total</th>\n",
       "      <td>0</td>\n",
       "    </tr>\n",
       "  </tbody>\n",
       "</table>\n",
       "<p>147 rows × 1 columns</p>\n",
       "</div>"
      ],
      "text/plain": [
       "                       nan_check\n",
       "Area of Residence               \n",
       "Outside the ROI Total        266\n",
       "Rest of Fingal               248\n",
       "Rest of Co Tipperary         247\n",
       "Ballybay                     222\n",
       "Kilkee                       220\n",
       "...                          ...\n",
       "Cork County                    3\n",
       "Leinster                       1\n",
       "Connacht                       1\n",
       "Munster                        0\n",
       "ROI Total                      0\n",
       "\n",
       "[147 rows x 1 columns]"
      ]
     },
     "execution_count": 17,
     "metadata": {},
     "output_type": "execute_result"
    }
   ],
   "source": [
    "nan_res = data.groupby(\"Area of Residence\")[[\"nan_check\"]].sum().sort_values(by=\"nan_check\", ascending = False)\n",
    "nan_res"
   ]
  },
  {
   "cell_type": "code",
   "execution_count": null,
   "metadata": {
    "colab": {
     "base_uri": "https://localhost:8080/",
     "height": 520
    },
    "id": "3I4EmCb5JkXB",
    "outputId": "cb436b3e-0220-428d-b0ec-5a2f0a95256a"
   },
   "outputs": [
    {
     "data": {
      "text/html": [
       "<div>\n",
       "<style scoped>\n",
       "    .dataframe tbody tr th:only-of-type {\n",
       "        vertical-align: middle;\n",
       "    }\n",
       "\n",
       "    .dataframe tbody tr th {\n",
       "        vertical-align: top;\n",
       "    }\n",
       "\n",
       "    .dataframe thead th {\n",
       "        text-align: right;\n",
       "    }\n",
       "</style>\n",
       "<table border=\"1\" class=\"dataframe\">\n",
       "  <thead>\n",
       "    <tr style=\"text-align: right;\">\n",
       "      <th></th>\n",
       "      <th>nan_check</th>\n",
       "    </tr>\n",
       "    <tr>\n",
       "      <th>Year</th>\n",
       "      <th></th>\n",
       "    </tr>\n",
       "  </thead>\n",
       "  <tbody>\n",
       "    <tr>\n",
       "      <th>2020</th>\n",
       "      <td>2169</td>\n",
       "    </tr>\n",
       "    <tr>\n",
       "      <th>2019</th>\n",
       "      <td>2071</td>\n",
       "    </tr>\n",
       "    <tr>\n",
       "      <th>2018</th>\n",
       "      <td>114</td>\n",
       "    </tr>\n",
       "    <tr>\n",
       "      <th>2017</th>\n",
       "      <td>1095</td>\n",
       "    </tr>\n",
       "    <tr>\n",
       "      <th>2016</th>\n",
       "      <td>2151</td>\n",
       "    </tr>\n",
       "    <tr>\n",
       "      <th>2015</th>\n",
       "      <td>2152</td>\n",
       "    </tr>\n",
       "    <tr>\n",
       "      <th>2014</th>\n",
       "      <td>996</td>\n",
       "    </tr>\n",
       "    <tr>\n",
       "      <th>2013</th>\n",
       "      <td>76</td>\n",
       "    </tr>\n",
       "    <tr>\n",
       "      <th>2012</th>\n",
       "      <td>1222</td>\n",
       "    </tr>\n",
       "    <tr>\n",
       "      <th>2011</th>\n",
       "      <td>608</td>\n",
       "    </tr>\n",
       "    <tr>\n",
       "      <th>2010</th>\n",
       "      <td>1231</td>\n",
       "    </tr>\n",
       "    <tr>\n",
       "      <th>2009</th>\n",
       "      <td>1234</td>\n",
       "    </tr>\n",
       "    <tr>\n",
       "      <th>2008</th>\n",
       "      <td>1164</td>\n",
       "    </tr>\n",
       "    <tr>\n",
       "      <th>2007</th>\n",
       "      <td>608</td>\n",
       "    </tr>\n",
       "  </tbody>\n",
       "</table>\n",
       "</div>"
      ],
      "text/plain": [
       "      nan_check\n",
       "Year           \n",
       "2020       2169\n",
       "2019       2071\n",
       "2018        114\n",
       "2017       1095\n",
       "2016       2151\n",
       "2015       2152\n",
       "2014        996\n",
       "2013         76\n",
       "2012       1222\n",
       "2011        608\n",
       "2010       1231\n",
       "2009       1234\n",
       "2008       1164\n",
       "2007        608"
      ]
     },
     "execution_count": 18,
     "metadata": {},
     "output_type": "execute_result"
    }
   ],
   "source": [
    "data.groupby(\"Year\")[[\"nan_check\"]].sum().sort_values(by=\"Year\", ascending = False)"
   ]
  },
  {
   "cell_type": "markdown",
   "metadata": {
    "id": "eIOck5RmqN3U"
   },
   "source": [
    "Selecting threshold in such a way that there will be no missing value for year 2007. We will use those values to fill it ahead in place of nan for future years"
   ]
  },
  {
   "cell_type": "code",
   "execution_count": null,
   "metadata": {
    "id": "6KIIkIm_1EFS"
   },
   "outputs": [],
   "source": [
    "most_nan_res =  nan_res[nan_res[\"nan_check\"] > 190].index"
   ]
  },
  {
   "cell_type": "code",
   "execution_count": null,
   "metadata": {
    "colab": {
     "base_uri": "https://localhost:8080/"
    },
    "id": "gwGZzp080Klp",
    "outputId": "b2bbd87d-43cf-4601-8aff-2e9243c0416a"
   },
   "outputs": [
    {
     "data": {
      "text/plain": [
       "(30590, 6)"
      ]
     },
     "execution_count": 20,
     "metadata": {},
     "output_type": "execute_result"
    }
   ],
   "source": [
    "new_data = data[~data[\"Area of Residence\"].isin(most_nan_res)]\n",
    "new_data.shape"
   ]
  },
  {
   "cell_type": "code",
   "execution_count": null,
   "metadata": {
    "colab": {
     "base_uri": "https://localhost:8080/"
    },
    "id": "zjrQVT5plkXn",
    "outputId": "727e7795-7ef6-43ff-faaa-39b86a9d7b12"
   },
   "outputs": [
    {
     "data": {
      "text/plain": [
       "Area of Residence    115\n",
       "Year                  14\n",
       "Age at Death          19\n",
       "Female               570\n",
       "Male                 599\n",
       "_Total               821\n",
       "dtype: int64"
      ]
     },
     "execution_count": 32,
     "metadata": {},
     "output_type": "execute_result"
    }
   ],
   "source": [
    "new_data.nunique()"
   ]
  },
  {
   "cell_type": "code",
   "execution_count": null,
   "metadata": {
    "colab": {
     "base_uri": "https://localhost:8080/",
     "height": 520
    },
    "id": "Rq_IINzNILJV",
    "outputId": "e521733b-59a7-4bf4-cbe5-8b6778f3142d"
   },
   "outputs": [
    {
     "data": {
      "text/html": [
       "<div>\n",
       "<style scoped>\n",
       "    .dataframe tbody tr th:only-of-type {\n",
       "        vertical-align: middle;\n",
       "    }\n",
       "\n",
       "    .dataframe tbody tr th {\n",
       "        vertical-align: top;\n",
       "    }\n",
       "\n",
       "    .dataframe thead th {\n",
       "        text-align: right;\n",
       "    }\n",
       "</style>\n",
       "<table border=\"1\" class=\"dataframe\">\n",
       "  <thead>\n",
       "    <tr style=\"text-align: right;\">\n",
       "      <th></th>\n",
       "      <th>nan_check</th>\n",
       "    </tr>\n",
       "    <tr>\n",
       "      <th>Year</th>\n",
       "      <th></th>\n",
       "    </tr>\n",
       "  </thead>\n",
       "  <tbody>\n",
       "    <tr>\n",
       "      <th>2020</th>\n",
       "      <td>1580</td>\n",
       "    </tr>\n",
       "    <tr>\n",
       "      <th>2019</th>\n",
       "      <td>1482</td>\n",
       "    </tr>\n",
       "    <tr>\n",
       "      <th>2018</th>\n",
       "      <td>76</td>\n",
       "    </tr>\n",
       "    <tr>\n",
       "      <th>2017</th>\n",
       "      <td>713</td>\n",
       "    </tr>\n",
       "    <tr>\n",
       "      <th>2016</th>\n",
       "      <td>1543</td>\n",
       "    </tr>\n",
       "    <tr>\n",
       "      <th>2015</th>\n",
       "      <td>1544</td>\n",
       "    </tr>\n",
       "    <tr>\n",
       "      <th>2014</th>\n",
       "      <td>639</td>\n",
       "    </tr>\n",
       "    <tr>\n",
       "      <th>2013</th>\n",
       "      <td>0</td>\n",
       "    </tr>\n",
       "    <tr>\n",
       "      <th>2012</th>\n",
       "      <td>614</td>\n",
       "    </tr>\n",
       "    <tr>\n",
       "      <th>2011</th>\n",
       "      <td>0</td>\n",
       "    </tr>\n",
       "    <tr>\n",
       "      <th>2010</th>\n",
       "      <td>623</td>\n",
       "    </tr>\n",
       "    <tr>\n",
       "      <th>2009</th>\n",
       "      <td>626</td>\n",
       "    </tr>\n",
       "    <tr>\n",
       "      <th>2008</th>\n",
       "      <td>556</td>\n",
       "    </tr>\n",
       "    <tr>\n",
       "      <th>2007</th>\n",
       "      <td>0</td>\n",
       "    </tr>\n",
       "  </tbody>\n",
       "</table>\n",
       "</div>"
      ],
      "text/plain": [
       "      nan_check\n",
       "Year           \n",
       "2020       1580\n",
       "2019       1482\n",
       "2018         76\n",
       "2017        713\n",
       "2016       1543\n",
       "2015       1544\n",
       "2014        639\n",
       "2013          0\n",
       "2012        614\n",
       "2011          0\n",
       "2010        623\n",
       "2009        626\n",
       "2008        556\n",
       "2007          0"
      ]
     },
     "execution_count": 21,
     "metadata": {},
     "output_type": "execute_result"
    }
   ],
   "source": [
    "new_data.groupby(\"Year\")[[\"nan_check\"]].sum().sort_values(by=\"Year\", ascending = False)"
   ]
  },
  {
   "cell_type": "markdown",
   "metadata": {
    "id": "Tnf2Gx9iqtW7"
   },
   "source": [
    "Collecting indexes having nan values and filling them with previous year values"
   ]
  },
  {
   "cell_type": "code",
   "execution_count": null,
   "metadata": {
    "colab": {
     "base_uri": "https://localhost:8080/"
    },
    "id": "t-ZyfJKKq7dF",
    "outputId": "555398de-d79f-421f-c9c6-4dbd494b41bf"
   },
   "outputs": [
    {
     "data": {
      "text/plain": [
       "Area of Residence        0\n",
       "Year                     0\n",
       "Age at Death             0\n",
       "Female               11332\n",
       "Male                  9996\n",
       "nan_check                0\n",
       "dtype: int64"
      ]
     },
     "execution_count": 22,
     "metadata": {},
     "output_type": "execute_result"
    }
   ],
   "source": [
    "new_data.isna().sum()"
   ]
  },
  {
   "cell_type": "code",
   "execution_count": null,
   "metadata": {
    "id": "qbonTC94MSEx"
   },
   "outputs": [],
   "source": [
    "na_indexes = new_data[new_data.isna().any(axis=1)].index\n"
   ]
  },
  {
   "cell_type": "code",
   "execution_count": null,
   "metadata": {
    "id": "uazYcFrXMSG9"
   },
   "outputs": [],
   "source": [
    "### Need to optimize this loop , taking time to run\n",
    "for i in na_indexes:\n",
    "  temp = new_data.loc[i]\n",
    "  prev = new_data[(new_data[\"Area of Residence\"] == temp[\"Area of Residence\"]) & (new_data[\"Age at Death\"] == temp[\"Age at Death\"]) & (new_data[\"Year\"] == temp[\"Year\"]-1)]\n",
    "  if(np.isnan( new_data.loc[i].Male)):\n",
    "    new_data.at[i, \"Male\"] = prev.Male\n",
    "  if(np.isnan( new_data.loc[i].Female)):\n",
    "    new_data.at[i, \"Female\"] = prev.Female"
   ]
  },
  {
   "cell_type": "code",
   "execution_count": null,
   "metadata": {
    "colab": {
     "base_uri": "https://localhost:8080/",
     "height": 50
    },
    "id": "67KWvvfaL-ni",
    "outputId": "99dec58c-5f37-4a2b-c553-e58a007aa5c5"
   },
   "outputs": [
    {
     "data": {
      "text/html": [
       "<div>\n",
       "<style scoped>\n",
       "    .dataframe tbody tr th:only-of-type {\n",
       "        vertical-align: middle;\n",
       "    }\n",
       "\n",
       "    .dataframe tbody tr th {\n",
       "        vertical-align: top;\n",
       "    }\n",
       "\n",
       "    .dataframe thead th {\n",
       "        text-align: right;\n",
       "    }\n",
       "</style>\n",
       "<table border=\"1\" class=\"dataframe\">\n",
       "  <thead>\n",
       "    <tr style=\"text-align: right;\">\n",
       "      <th></th>\n",
       "      <th>Area of Residence</th>\n",
       "      <th>Year</th>\n",
       "      <th>Age at Death</th>\n",
       "      <th>Female</th>\n",
       "      <th>Male</th>\n",
       "      <th>nan_check</th>\n",
       "    </tr>\n",
       "  </thead>\n",
       "  <tbody>\n",
       "  </tbody>\n",
       "</table>\n",
       "</div>"
      ],
      "text/plain": [
       "Empty DataFrame\n",
       "Columns: [Area of Residence, Year, Age at Death, Female, Male, nan_check]\n",
       "Index: []"
      ]
     },
     "execution_count": 25,
     "metadata": {},
     "output_type": "execute_result"
    }
   ],
   "source": [
    "new_data[new_data.isna().any(axis=1)]"
   ]
  },
  {
   "cell_type": "code",
   "execution_count": null,
   "metadata": {
    "id": "94Lso0ZsgFX3"
   },
   "outputs": [],
   "source": [
    "new_data.drop(\"nan_check\", axis=1, inplace=True)"
   ]
  },
  {
   "cell_type": "code",
   "execution_count": null,
   "metadata": {
    "colab": {
     "base_uri": "https://localhost:8080/"
    },
    "id": "usdfGHK-IlyT",
    "outputId": "4f806a6a-6780-4ab5-fb73-b00b61522b72"
   },
   "outputs": [
    {
     "data": {
      "text/plain": [
       "Area of Residence     object\n",
       "Year                   int64\n",
       "Age at Death          object\n",
       "Female               float64\n",
       "Male                 float64\n",
       "dtype: object"
      ]
     },
     "execution_count": 27,
     "metadata": {},
     "output_type": "execute_result"
    }
   ],
   "source": [
    "new_data.dtypes"
   ]
  },
  {
   "cell_type": "markdown",
   "metadata": {
    "id": "8Xr4mNrjJRM6"
   },
   "source": [
    "As the data description is not provided assuming VALUE variable contains number of deaths. <br> We will convert it into int so that float values will get round off"
   ]
  },
  {
   "cell_type": "code",
   "execution_count": null,
   "metadata": {
    "id": "MYaQkcIGIl02"
   },
   "outputs": [],
   "source": [
    "new_data = new_data.astype({'Male': np.int, 'Female' : np.int})"
   ]
  },
  {
   "cell_type": "code",
   "execution_count": null,
   "metadata": {
    "id": "NKmDuxTdJm34"
   },
   "outputs": [],
   "source": [
    "new_data[\"_Total\"] = new_data[\"Female\"] + new_data[\"Male\"]"
   ]
  },
  {
   "cell_type": "code",
   "execution_count": null,
   "metadata": {
    "colab": {
     "base_uri": "https://localhost:8080/",
     "height": 641
    },
    "id": "LOE8pCx9fHsM",
    "outputId": "e0727ea6-c185-4f01-f663-7d0640f47a27"
   },
   "outputs": [
    {
     "data": {
      "image/png": "[encoded data removed]",
      "text/plain": [
       "<Figure size 1296x720 with 1 Axes>"
      ]
     },
     "metadata": {
      "needs_background": "light"
     },
     "output_type": "display_data"
    }
   ],
   "source": [
    "temp = new_data.groupby([\"Year\"]).sum()\n",
    "\n",
    "temp.plot.bar(figsize=((18,10)))\n",
    "plt.legend([ \"Female\", \"Male\", \"Total\"])\n",
    "plt.title(\"Deaths count over year 2007 - 2020\")\n",
    "plt.ylabel(\"Deaths Count\")\n",
    "plt.show()"
   ]
  },
  {
   "cell_type": "code",
   "execution_count": null,
   "metadata": {
    "colab": {
     "base_uri": "https://localhost:8080/",
     "height": 363
    },
    "id": "bFybtC09lkaX",
    "outputId": "257281c1-d06c-44b9-f20f-0889eda21ebe"
   },
   "outputs": [
    {
     "data": {
      "text/html": [
       "<div>\n",
       "<style scoped>\n",
       "    .dataframe tbody tr th:only-of-type {\n",
       "        vertical-align: middle;\n",
       "    }\n",
       "\n",
       "    .dataframe tbody tr th {\n",
       "        vertical-align: top;\n",
       "    }\n",
       "\n",
       "    .dataframe thead th {\n",
       "        text-align: right;\n",
       "    }\n",
       "</style>\n",
       "<table border=\"1\" class=\"dataframe\">\n",
       "  <thead>\n",
       "    <tr style=\"text-align: right;\">\n",
       "      <th></th>\n",
       "      <th>Area of Residence</th>\n",
       "      <th>Year</th>\n",
       "      <th>Age at Death</th>\n",
       "      <th>Female</th>\n",
       "      <th>Male</th>\n",
       "      <th>_Total</th>\n",
       "    </tr>\n",
       "  </thead>\n",
       "  <tbody>\n",
       "    <tr>\n",
       "      <th>280</th>\n",
       "      <td>Arklow Town</td>\n",
       "      <td>2007</td>\n",
       "      <td>1 - 4 years</td>\n",
       "      <td>0</td>\n",
       "      <td>0</td>\n",
       "      <td>0</td>\n",
       "    </tr>\n",
       "    <tr>\n",
       "      <th>281</th>\n",
       "      <td>Arklow Town</td>\n",
       "      <td>2007</td>\n",
       "      <td>10 - 14 years</td>\n",
       "      <td>0</td>\n",
       "      <td>0</td>\n",
       "      <td>0</td>\n",
       "    </tr>\n",
       "    <tr>\n",
       "      <th>282</th>\n",
       "      <td>Arklow Town</td>\n",
       "      <td>2007</td>\n",
       "      <td>15 - 19 years</td>\n",
       "      <td>0</td>\n",
       "      <td>0</td>\n",
       "      <td>0</td>\n",
       "    </tr>\n",
       "    <tr>\n",
       "      <th>283</th>\n",
       "      <td>Arklow Town</td>\n",
       "      <td>2007</td>\n",
       "      <td>20 - 24 years</td>\n",
       "      <td>0</td>\n",
       "      <td>2</td>\n",
       "      <td>2</td>\n",
       "    </tr>\n",
       "    <tr>\n",
       "      <th>284</th>\n",
       "      <td>Arklow Town</td>\n",
       "      <td>2007</td>\n",
       "      <td>25 - 29 years</td>\n",
       "      <td>1</td>\n",
       "      <td>0</td>\n",
       "      <td>1</td>\n",
       "    </tr>\n",
       "    <tr>\n",
       "      <th>285</th>\n",
       "      <td>Arklow Town</td>\n",
       "      <td>2007</td>\n",
       "      <td>30 - 34 years</td>\n",
       "      <td>0</td>\n",
       "      <td>1</td>\n",
       "      <td>1</td>\n",
       "    </tr>\n",
       "    <tr>\n",
       "      <th>286</th>\n",
       "      <td>Arklow Town</td>\n",
       "      <td>2007</td>\n",
       "      <td>35 - 39 years</td>\n",
       "      <td>1</td>\n",
       "      <td>2</td>\n",
       "      <td>3</td>\n",
       "    </tr>\n",
       "    <tr>\n",
       "      <th>287</th>\n",
       "      <td>Arklow Town</td>\n",
       "      <td>2007</td>\n",
       "      <td>40 - 44 years</td>\n",
       "      <td>0</td>\n",
       "      <td>0</td>\n",
       "      <td>0</td>\n",
       "    </tr>\n",
       "    <tr>\n",
       "      <th>288</th>\n",
       "      <td>Arklow Town</td>\n",
       "      <td>2007</td>\n",
       "      <td>45 - 49 years</td>\n",
       "      <td>1</td>\n",
       "      <td>0</td>\n",
       "      <td>1</td>\n",
       "    </tr>\n",
       "    <tr>\n",
       "      <th>289</th>\n",
       "      <td>Arklow Town</td>\n",
       "      <td>2007</td>\n",
       "      <td>5 - 9 years</td>\n",
       "      <td>0</td>\n",
       "      <td>0</td>\n",
       "      <td>0</td>\n",
       "    </tr>\n",
       "  </tbody>\n",
       "</table>\n",
       "</div>"
      ],
      "text/plain": [
       "    Area of Residence  Year   Age at Death  Female  Male  _Total\n",
       "280       Arklow Town  2007    1 - 4 years       0     0       0\n",
       "281       Arklow Town  2007  10 - 14 years       0     0       0\n",
       "282       Arklow Town  2007  15 - 19 years       0     0       0\n",
       "283       Arklow Town  2007  20 - 24 years       0     2       2\n",
       "284       Arklow Town  2007  25 - 29 years       1     0       1\n",
       "285       Arklow Town  2007  30 - 34 years       0     1       1\n",
       "286       Arklow Town  2007  35 - 39 years       1     2       3\n",
       "287       Arklow Town  2007  40 - 44 years       0     0       0\n",
       "288       Arklow Town  2007  45 - 49 years       1     0       1\n",
       "289       Arklow Town  2007    5 - 9 years       0     0       0"
      ]
     },
     "execution_count": 33,
     "metadata": {},
     "output_type": "execute_result"
    }
   ],
   "source": [
    "new_data.head(10)"
   ]
  },
  {
   "cell_type": "code",
   "execution_count": null,
   "metadata": {
    "colab": {
     "base_uri": "https://localhost:8080/",
     "height": 423
    },
    "id": "BQ4EbcT-xTw7",
    "outputId": "8aa748a8-c527-40d1-ee96-07f569c6983f"
   },
   "outputs": [
    {
     "data": {
      "text/html": [
       "<div>\n",
       "<style scoped>\n",
       "    .dataframe tbody tr th:only-of-type {\n",
       "        vertical-align: middle;\n",
       "    }\n",
       "\n",
       "    .dataframe tbody tr th {\n",
       "        vertical-align: top;\n",
       "    }\n",
       "\n",
       "    .dataframe thead th {\n",
       "        text-align: right;\n",
       "    }\n",
       "</style>\n",
       "<table border=\"1\" class=\"dataframe\">\n",
       "  <thead>\n",
       "    <tr style=\"text-align: right;\">\n",
       "      <th></th>\n",
       "      <th>Area of Residence</th>\n",
       "      <th>Year</th>\n",
       "      <th>Age at Death</th>\n",
       "      <th>Female</th>\n",
       "      <th>Male</th>\n",
       "      <th>_Total</th>\n",
       "    </tr>\n",
       "  </thead>\n",
       "  <tbody>\n",
       "    <tr>\n",
       "      <th>0</th>\n",
       "      <td>Arklow Town</td>\n",
       "      <td>2007</td>\n",
       "      <td>1 - 4 years</td>\n",
       "      <td>0</td>\n",
       "      <td>0</td>\n",
       "      <td>0</td>\n",
       "    </tr>\n",
       "    <tr>\n",
       "      <th>1</th>\n",
       "      <td>Arklow Town</td>\n",
       "      <td>2007</td>\n",
       "      <td>10 - 14 years</td>\n",
       "      <td>0</td>\n",
       "      <td>0</td>\n",
       "      <td>0</td>\n",
       "    </tr>\n",
       "    <tr>\n",
       "      <th>2</th>\n",
       "      <td>Arklow Town</td>\n",
       "      <td>2007</td>\n",
       "      <td>15 - 19 years</td>\n",
       "      <td>0</td>\n",
       "      <td>0</td>\n",
       "      <td>0</td>\n",
       "    </tr>\n",
       "    <tr>\n",
       "      <th>3</th>\n",
       "      <td>Arklow Town</td>\n",
       "      <td>2007</td>\n",
       "      <td>20 - 24 years</td>\n",
       "      <td>0</td>\n",
       "      <td>2</td>\n",
       "      <td>2</td>\n",
       "    </tr>\n",
       "    <tr>\n",
       "      <th>4</th>\n",
       "      <td>Arklow Town</td>\n",
       "      <td>2007</td>\n",
       "      <td>25 - 29 years</td>\n",
       "      <td>1</td>\n",
       "      <td>0</td>\n",
       "      <td>1</td>\n",
       "    </tr>\n",
       "    <tr>\n",
       "      <th>...</th>\n",
       "      <td>...</td>\n",
       "      <td>...</td>\n",
       "      <td>...</td>\n",
       "      <td>...</td>\n",
       "      <td>...</td>\n",
       "      <td>...</td>\n",
       "    </tr>\n",
       "    <tr>\n",
       "      <th>30585</th>\n",
       "      <td>Youghal Town</td>\n",
       "      <td>2020</td>\n",
       "      <td>70 - 74 years</td>\n",
       "      <td>2</td>\n",
       "      <td>6</td>\n",
       "      <td>8</td>\n",
       "    </tr>\n",
       "    <tr>\n",
       "      <th>30586</th>\n",
       "      <td>Youghal Town</td>\n",
       "      <td>2020</td>\n",
       "      <td>75 - 79 years</td>\n",
       "      <td>4</td>\n",
       "      <td>2</td>\n",
       "      <td>6</td>\n",
       "    </tr>\n",
       "    <tr>\n",
       "      <th>30587</th>\n",
       "      <td>Youghal Town</td>\n",
       "      <td>2020</td>\n",
       "      <td>80 - 84 years</td>\n",
       "      <td>4</td>\n",
       "      <td>4</td>\n",
       "      <td>8</td>\n",
       "    </tr>\n",
       "    <tr>\n",
       "      <th>30588</th>\n",
       "      <td>Youghal Town</td>\n",
       "      <td>2020</td>\n",
       "      <td>85 years and over</td>\n",
       "      <td>13</td>\n",
       "      <td>10</td>\n",
       "      <td>23</td>\n",
       "    </tr>\n",
       "    <tr>\n",
       "      <th>30589</th>\n",
       "      <td>Youghal Town</td>\n",
       "      <td>2020</td>\n",
       "      <td>Under 1 year</td>\n",
       "      <td>0</td>\n",
       "      <td>0</td>\n",
       "      <td>0</td>\n",
       "    </tr>\n",
       "  </tbody>\n",
       "</table>\n",
       "<p>30590 rows × 6 columns</p>\n",
       "</div>"
      ],
      "text/plain": [
       "      Area of Residence  Year       Age at Death  Female  Male  _Total\n",
       "0           Arklow Town  2007        1 - 4 years       0     0       0\n",
       "1           Arklow Town  2007      10 - 14 years       0     0       0\n",
       "2           Arklow Town  2007      15 - 19 years       0     0       0\n",
       "3           Arklow Town  2007      20 - 24 years       0     2       2\n",
       "4           Arklow Town  2007      25 - 29 years       1     0       1\n",
       "...                 ...   ...                ...     ...   ...     ...\n",
       "30585      Youghal Town  2020      70 - 74 years       2     6       8\n",
       "30586      Youghal Town  2020      75 - 79 years       4     2       6\n",
       "30587      Youghal Town  2020      80 - 84 years       4     4       8\n",
       "30588      Youghal Town  2020  85 years and over      13    10      23\n",
       "30589      Youghal Town  2020       Under 1 year       0     0       0\n",
       "\n",
       "[30590 rows x 6 columns]"
      ]
     },
     "execution_count": 36,
     "metadata": {},
     "output_type": "execute_result"
    }
   ],
   "source": [
    "#new_data.reset_index(inplace=True)\n",
    "new_data.drop(\"level_0\", axis = 1, inplace=True)\n",
    "new_data"
   ]
  },
  {
   "cell_type": "code",
   "execution_count": null,
   "metadata": {
    "id": "dfBTPq-2ukrK"
   },
   "outputs": [],
   "source": [
    "new_data.to_csv(path+\"/data/Cleaned_Deaths_Region_2007-2020.csv\" , encoding='utf-8', index=False)"
   ]
  },
  {
   "cell_type": "code",
   "execution_count": null,
   "metadata": {
    "colab": {
     "base_uri": "https://localhost:8080/",
     "height": 380
    },
    "id": "uVhxsqRtx7xt",
    "outputId": "c4b3c58c-d160-4fe3-e0b8-03ec144d9b4b"
   },
   "outputs": [
    {
     "name": "stdout",
     "output_type": "stream",
     "text": [
      "(30590, 6)\n"
     ]
    },
    {
     "data": {
      "text/html": [
       "<div>\n",
       "<style scoped>\n",
       "    .dataframe tbody tr th:only-of-type {\n",
       "        vertical-align: middle;\n",
       "    }\n",
       "\n",
       "    .dataframe tbody tr th {\n",
       "        vertical-align: top;\n",
       "    }\n",
       "\n",
       "    .dataframe thead th {\n",
       "        text-align: right;\n",
       "    }\n",
       "</style>\n",
       "<table border=\"1\" class=\"dataframe\">\n",
       "  <thead>\n",
       "    <tr style=\"text-align: right;\">\n",
       "      <th></th>\n",
       "      <th>Area of Residence</th>\n",
       "      <th>Year</th>\n",
       "      <th>Age at Death</th>\n",
       "      <th>Female</th>\n",
       "      <th>Male</th>\n",
       "      <th>_Total</th>\n",
       "    </tr>\n",
       "  </thead>\n",
       "  <tbody>\n",
       "    <tr>\n",
       "      <th>0</th>\n",
       "      <td>Arklow Town</td>\n",
       "      <td>2007</td>\n",
       "      <td>1 - 4 years</td>\n",
       "      <td>0</td>\n",
       "      <td>0</td>\n",
       "      <td>0</td>\n",
       "    </tr>\n",
       "    <tr>\n",
       "      <th>1</th>\n",
       "      <td>Arklow Town</td>\n",
       "      <td>2007</td>\n",
       "      <td>10 - 14 years</td>\n",
       "      <td>0</td>\n",
       "      <td>0</td>\n",
       "      <td>0</td>\n",
       "    </tr>\n",
       "    <tr>\n",
       "      <th>2</th>\n",
       "      <td>Arklow Town</td>\n",
       "      <td>2007</td>\n",
       "      <td>15 - 19 years</td>\n",
       "      <td>0</td>\n",
       "      <td>0</td>\n",
       "      <td>0</td>\n",
       "    </tr>\n",
       "    <tr>\n",
       "      <th>3</th>\n",
       "      <td>Arklow Town</td>\n",
       "      <td>2007</td>\n",
       "      <td>20 - 24 years</td>\n",
       "      <td>0</td>\n",
       "      <td>2</td>\n",
       "      <td>2</td>\n",
       "    </tr>\n",
       "    <tr>\n",
       "      <th>4</th>\n",
       "      <td>Arklow Town</td>\n",
       "      <td>2007</td>\n",
       "      <td>25 - 29 years</td>\n",
       "      <td>1</td>\n",
       "      <td>0</td>\n",
       "      <td>1</td>\n",
       "    </tr>\n",
       "    <tr>\n",
       "      <th>5</th>\n",
       "      <td>Arklow Town</td>\n",
       "      <td>2007</td>\n",
       "      <td>30 - 34 years</td>\n",
       "      <td>0</td>\n",
       "      <td>1</td>\n",
       "      <td>1</td>\n",
       "    </tr>\n",
       "    <tr>\n",
       "      <th>6</th>\n",
       "      <td>Arklow Town</td>\n",
       "      <td>2007</td>\n",
       "      <td>35 - 39 years</td>\n",
       "      <td>1</td>\n",
       "      <td>2</td>\n",
       "      <td>3</td>\n",
       "    </tr>\n",
       "    <tr>\n",
       "      <th>7</th>\n",
       "      <td>Arklow Town</td>\n",
       "      <td>2007</td>\n",
       "      <td>40 - 44 years</td>\n",
       "      <td>0</td>\n",
       "      <td>0</td>\n",
       "      <td>0</td>\n",
       "    </tr>\n",
       "    <tr>\n",
       "      <th>8</th>\n",
       "      <td>Arklow Town</td>\n",
       "      <td>2007</td>\n",
       "      <td>45 - 49 years</td>\n",
       "      <td>1</td>\n",
       "      <td>0</td>\n",
       "      <td>1</td>\n",
       "    </tr>\n",
       "    <tr>\n",
       "      <th>9</th>\n",
       "      <td>Arklow Town</td>\n",
       "      <td>2007</td>\n",
       "      <td>5 - 9 years</td>\n",
       "      <td>0</td>\n",
       "      <td>0</td>\n",
       "      <td>0</td>\n",
       "    </tr>\n",
       "  </tbody>\n",
       "</table>\n",
       "</div>"
      ],
      "text/plain": [
       "  Area of Residence  Year   Age at Death  Female  Male  _Total\n",
       "0       Arklow Town  2007    1 - 4 years       0     0       0\n",
       "1       Arklow Town  2007  10 - 14 years       0     0       0\n",
       "2       Arklow Town  2007  15 - 19 years       0     0       0\n",
       "3       Arklow Town  2007  20 - 24 years       0     2       2\n",
       "4       Arklow Town  2007  25 - 29 years       1     0       1\n",
       "5       Arklow Town  2007  30 - 34 years       0     1       1\n",
       "6       Arklow Town  2007  35 - 39 years       1     2       3\n",
       "7       Arklow Town  2007  40 - 44 years       0     0       0\n",
       "8       Arklow Town  2007  45 - 49 years       1     0       1\n",
       "9       Arklow Town  2007    5 - 9 years       0     0       0"
      ]
     },
     "execution_count": 3,
     "metadata": {},
     "output_type": "execute_result"
    }
   ],
   "source": [
    "df = pd.read_csv(path+\"/data/Cleaned_Deaths_Region_2007-2020.csv\")\n",
    "print(df.shape)\n",
    "df.head(10)"
   ]
  },
  {
   "cell_type": "code",
   "execution_count": null,
   "metadata": {
    "colab": {
     "base_uri": "https://localhost:8080/"
    },
    "id": "w5zmPVEuM3lM",
    "outputId": "eb7b9bf0-77b1-4591-df24-de1db96be1a9"
   },
   "outputs": [
    {
     "name": "stdout",
     "output_type": "stream",
     "text": [
      "Requirement already satisfied: fbprophet in /usr/local/lib/python3.7/dist-packages (0.7.1)\n",
      "Requirement already satisfied: Cython>=0.22 in /usr/local/lib/python3.7/dist-packages (from fbprophet) (0.29.24)\n",
      "Requirement already satisfied: cmdstanpy==0.9.5 in /usr/local/lib/python3.7/dist-packages (from fbprophet) (0.9.5)\n",
      "Requirement already satisfied: pystan>=2.14 in /usr/local/lib/python3.7/dist-packages (from fbprophet) (2.19.1.1)\n",
      "Requirement already satisfied: numpy>=1.15.4 in /usr/local/lib/python3.7/dist-packages (from fbprophet) (1.19.5)\n",
      "Requirement already satisfied: pandas>=1.0.4 in /usr/local/lib/python3.7/dist-packages (from fbprophet) (1.1.5)\n",
      "Requirement already satisfied: matplotlib>=2.0.0 in /usr/local/lib/python3.7/dist-packages (from fbprophet) (3.2.2)\n",
      "Requirement already satisfied: LunarCalendar>=0.0.9 in /usr/local/lib/python3.7/dist-packages (from fbprophet) (0.0.9)\n",
      "Requirement already satisfied: convertdate>=2.1.2 in /usr/local/lib/python3.7/dist-packages (from fbprophet) (2.3.2)\n",
      "Requirement already satisfied: holidays>=0.10.2 in /usr/local/lib/python3.7/dist-packages (from fbprophet) (0.10.5.2)\n",
      "Requirement already satisfied: setuptools-git>=1.2 in /usr/local/lib/python3.7/dist-packages (from fbprophet) (1.2)\n",
      "Requirement already satisfied: python-dateutil>=2.8.0 in /usr/local/lib/python3.7/dist-packages (from fbprophet) (2.8.2)\n",
      "Requirement already satisfied: tqdm>=4.36.1 in /usr/local/lib/python3.7/dist-packages (from fbprophet) (4.62.3)\n",
      "Requirement already satisfied: pymeeus<=1,>=0.3.13 in /usr/local/lib/python3.7/dist-packages (from convertdate>=2.1.2->fbprophet) (0.5.11)\n",
      "Requirement already satisfied: pytz>=2014.10 in /usr/local/lib/python3.7/dist-packages (from convertdate>=2.1.2->fbprophet) (2018.9)\n",
      "Requirement already satisfied: korean-lunar-calendar in /usr/local/lib/python3.7/dist-packages (from holidays>=0.10.2->fbprophet) (0.2.1)\n",
      "Requirement already satisfied: hijri-converter in /usr/local/lib/python3.7/dist-packages (from holidays>=0.10.2->fbprophet) (2.2.2)\n",
      "Requirement already satisfied: six in /usr/local/lib/python3.7/dist-packages (from holidays>=0.10.2->fbprophet) (1.15.0)\n",
      "Requirement already satisfied: ephem>=3.7.5.3 in /usr/local/lib/python3.7/dist-packages (from LunarCalendar>=0.0.9->fbprophet) (4.1)\n",
      "Requirement already satisfied: cycler>=0.10 in /usr/local/lib/python3.7/dist-packages (from matplotlib>=2.0.0->fbprophet) (0.11.0)\n",
      "Requirement already satisfied: kiwisolver>=1.0.1 in /usr/local/lib/python3.7/dist-packages (from matplotlib>=2.0.0->fbprophet) (1.3.2)\n",
      "Requirement already satisfied: pyparsing!=2.0.4,!=2.1.2,!=2.1.6,>=2.0.1 in /usr/local/lib/python3.7/dist-packages (from matplotlib>=2.0.0->fbprophet) (3.0.6)\n"
     ]
    }
   ],
   "source": [
    "!pip install fbprophet"
   ]
  },
  {
   "cell_type": "code",
   "execution_count": null,
   "metadata": {
    "colab": {
     "base_uri": "https://localhost:8080/",
     "height": 626
    },
    "id": "JpHHbrHlM3vQ",
    "outputId": "490597f1-274a-4fc4-b714-8d1150004e12"
   },
   "outputs": [
    {
     "data": {
      "image/png": "[encoded data removed]",
      "text/plain": [
       "<Figure size 1296x720 with 1 Axes>"
      ]
     },
     "metadata": {},
     "output_type": "display_data"
    }
   ],
   "source": [
    "temp = df.groupby([\"Year\"]).sum()\n",
    "\n",
    "temp.plot(figsize=((18,10)))\n",
    "plt.legend([ \"Female\", \"Male\", \"Total\"])\n",
    "plt.title(\"Time Series Plot -Deaths count over year 2007 - 2020\")\n",
    "plt.ylabel(\"Deaths Count\")\n",
    "plt.show()"
   ]
  },
  {
   "cell_type": "markdown",
   "metadata": {
    "id": "J8eNVaNnBUAG"
   },
   "source": [
    "### Importing Libraries"
   ]
  },
  {
   "cell_type": "code",
   "execution_count": null,
   "metadata": {
    "id": "VyHaLyPhPtfY"
   },
   "outputs": [],
   "source": [
    "from fbprophet import Prophet\n",
    "from sklearn.metrics import mean_absolute_error\n",
    "from sklearn import preprocessing\n",
    "from sklearn.model_selection import train_test_split"
   ]
  },
  {
   "cell_type": "code",
   "execution_count": null,
   "metadata": {
    "id": "_p5bon3nM31J"
   },
   "outputs": [],
   "source": [
    "Female_series = temp[[\"Female\"]]\n",
    "Male_series = temp[[\"Male\"]]\n",
    "Total_series = temp[[\"_Total\"]]\n",
    "Female_series.reset_index(inplace=True)\n",
    "Male_series.reset_index(inplace=True)\n",
    "Total_series.reset_index(inplace=True)"
   ]
  },
  {
   "cell_type": "code",
   "execution_count": null,
   "metadata": {
    "id": "WGFLOhZ_M37U"
   },
   "outputs": [],
   "source": [
    "# prepare expected column names\n",
    "Female_series.columns = ['ds', 'y']\n",
    "Female_series['ds']= pd.to_datetime(Female_series.ds, format='%Y') + pd.offsets.YearEnd(0)\n",
    "Male_series.columns = ['ds', 'y']\n",
    "Male_series['ds']= pd.to_datetime(Male_series.ds, format='%Y') + pd.offsets.YearEnd(0)\n",
    "Total_series.columns = ['ds', 'y']\n",
    "Total_series['ds']= pd.to_datetime(Total_series.ds, format='%Y') + pd.offsets.YearEnd(0)"
   ]
  },
  {
   "cell_type": "code",
   "execution_count": null,
   "metadata": {
    "id": "v7EBqLzsWXTC"
   },
   "outputs": [],
   "source": [
    "def TS_Summary(future):\n",
    "  future = pd.DataFrame(future)\n",
    "  future.columns = ['ds']\n",
    "  future['ds']= pd.to_datetime(future['ds'])\n",
    "\n",
    "  # use the model to make a forecast\n",
    "  forecast = model.predict(future)\n",
    "  # summarize the forecast\n",
    "  print(forecast[['ds', 'yhat', 'yhat_lower', 'yhat_upper']].head())\n",
    "  # plot forecast\n",
    "\n",
    "  model.plot(forecast, figsize=((15,7)))\n",
    "  plt.title(\"Time Series Forecast for {} - {}\".format( future.ds.iloc[0].strftime('%Y'),future.ds.iat[-1].strftime('%Y') ))\n",
    "  plt.ylabel(\"Deaths Count\")\n",
    "  plt.show()"
   ]
  },
  {
   "cell_type": "code",
   "execution_count": null,
   "metadata": {
    "id": "PYmuy-vlZHbu"
   },
   "outputs": [],
   "source": []
  },
  {
   "cell_type": "markdown",
   "metadata": {
    "id": "1rpj74UnZHwj"
   },
   "source": [
    "### In sample forecast"
   ]
  },
  {
   "cell_type": "code",
   "execution_count": null,
   "metadata": {
    "colab": {
     "base_uri": "https://localhost:8080/",
     "height": 669
    },
    "id": "WdzjDM34M3-o",
    "outputId": "78e0894b-f1ef-4523-d3e5-951dc4b428bc"
   },
   "outputs": [
    {
     "name": "stderr",
     "output_type": "stream",
     "text": [
      "INFO:numexpr.utils:NumExpr defaulting to 2 threads.\n",
      "INFO:fbprophet:Disabling weekly seasonality. Run prophet with weekly_seasonality=True to override this.\n",
      "INFO:fbprophet:Disabling daily seasonality. Run prophet with daily_seasonality=True to override this.\n",
      "INFO:fbprophet:n_changepoints greater than number of observations. Using 10.\n"
     ]
    },
    {
     "name": "stdout",
     "output_type": "stream",
     "text": [
      "          ds           yhat     yhat_lower     yhat_upper\n",
      "0 2018-12-31  109924.568226  108809.212519  110911.435239\n",
      "1 2019-12-31  110416.117184  109299.566469  111445.170612\n",
      "2 2020-12-31  113638.533611  112597.794173  114672.915258\n"
     ]
    },
    {
     "data": {
      "image/png": "[encoded data removed]",
      "text/plain": [
       "<Figure size 1080x504 with 1 Axes>"
      ]
     },
     "metadata": {},
     "output_type": "display_data"
    }
   ],
   "source": [
    "# define the model\n",
    "model = Prophet()\n",
    "# fit the model\n",
    "model.fit(Total_series)\n",
    "# define the period for which we want a prediction\n",
    "future = list()\n",
    "for i in range(2018, 2021):\n",
    "  date = pd.to_datetime(i, format='%Y') + pd.offsets.YearEnd(0)\n",
    "  future.append([date])\n",
    "TS_Summary(future)\n",
    "\n"
   ]
  },
  {
   "cell_type": "markdown",
   "metadata": {
    "id": "4QcO5gjnZOMG"
   },
   "source": [
    "### Out-of-Sample Forecast"
   ]
  },
  {
   "cell_type": "code",
   "execution_count": null,
   "metadata": {
    "colab": {
     "base_uri": "https://localhost:8080/",
     "height": 651
    },
    "id": "dRLwSbVmM4E2",
    "outputId": "bf2b38da-7340-4c62-edeb-2deed8e10911"
   },
   "outputs": [
    {
     "name": "stderr",
     "output_type": "stream",
     "text": [
      "INFO:fbprophet:Disabling weekly seasonality. Run prophet with weekly_seasonality=True to override this.\n",
      "INFO:fbprophet:Disabling daily seasonality. Run prophet with daily_seasonality=True to override this.\n",
      "INFO:fbprophet:n_changepoints greater than number of observations. Using 10.\n"
     ]
    },
    {
     "name": "stdout",
     "output_type": "stream",
     "text": [
      "          ds           yhat     yhat_lower     yhat_upper\n",
      "0 2021-12-31  113719.284638  112736.025482  114782.925561\n",
      "1 2022-12-31  114004.638976  113032.411626  115068.282186\n",
      "2 2023-12-31  114496.187934  113433.110407  115548.676067\n"
     ]
    },
    {
     "data": {
      "image/png": "[encoded data removed]",
      "text/plain": [
       "<Figure size 1080x504 with 1 Axes>"
      ]
     },
     "metadata": {},
     "output_type": "display_data"
    }
   ],
   "source": [
    "# define the model\n",
    "model = Prophet()\n",
    "# fit the model\n",
    "model.fit(Total_series)\n",
    "# define the period for which we want a prediction\n",
    "future = list()\n",
    "for i in range(2021, 2024):\n",
    "  date = pd.to_datetime(i, format='%Y') + pd.offsets.YearEnd(0)\n",
    "  future.append([date])\n",
    "TS_Summary(future)"
   ]
  },
  {
   "cell_type": "code",
   "execution_count": null,
   "metadata": {
    "colab": {
     "base_uri": "https://localhost:8080/",
     "height": 498
    },
    "id": "aH9LROvEZTmN",
    "outputId": "426f2c20-4ca6-4aab-9a98-f60696976755"
   },
   "outputs": [
    {
     "name": "stderr",
     "output_type": "stream",
     "text": [
      "INFO:fbprophet:Disabling weekly seasonality. Run prophet with weekly_seasonality=True to override this.\n",
      "INFO:fbprophet:Disabling daily seasonality. Run prophet with daily_seasonality=True to override this.\n",
      "INFO:fbprophet:n_changepoints greater than number of observations. Using 7.\n"
     ]
    },
    {
     "name": "stdout",
     "output_type": "stream",
     "text": [
      "MAE: 1771.275\n"
     ]
    },
    {
     "data": {
      "image/png": "[encoded data removed]",
      "text/plain": [
       "<Figure size 1080x504 with 1 Axes>"
      ]
     },
     "metadata": {},
     "output_type": "display_data"
    }
   ],
   "source": [
    "# create test dataset, remove last 12 months\n",
    "train = Total_series.drop(Total_series.index[-4:])\n",
    "\n",
    "# define the model\n",
    "model = Prophet()\n",
    "# fit the model\n",
    "model.fit(train)\n",
    "# define the period for which we want a prediction\n",
    "future = list()\n",
    "for i in range(2016, 2020):\n",
    "\tdate = pd.to_datetime(i, format='%Y') + pd.offsets.YearEnd(0)\n",
    "\tfuture.append([date])\n",
    "future = pd.DataFrame(future)\n",
    "future.columns = ['ds']\n",
    "future['ds'] = pd.to_datetime(future['ds'])\n",
    "# use the model to make a forecast\n",
    "forecast = model.predict(future)\n",
    "# calculate MAE between expected and predicted values for december\n",
    "y_true = Total_series['y'][-4:].values\n",
    "y_pred = forecast['yhat'].values\n",
    "mae = mean_absolute_error(y_true, y_pred)\n",
    "print('MAE: %.3f' % mae)\n",
    "# plot expected vs actual\n",
    "plt.figure(figsize=((15,7)))\n",
    "plt.plot(y_true, label='Actual')\n",
    "plt.plot(y_pred, label='Predicted')\n",
    "plt.legend()\n",
    "plt.show()"
   ]
  },
  {
   "cell_type": "code",
   "execution_count": null,
   "metadata": {
    "colab": {
     "base_uri": "https://localhost:8080/",
     "height": 1000
    },
    "id": "CvxZ1Y6Xa3rJ",
    "outputId": "2e23c1aa-d072-47eb-832d-d45ddcc7331b"
   },
   "outputs": [
    {
     "name": "stderr",
     "output_type": "stream",
     "text": [
      "INFO:fbprophet:Disabling weekly seasonality. Run prophet with weekly_seasonality=True to override this.\n",
      "INFO:fbprophet:Disabling daily seasonality. Run prophet with daily_seasonality=True to override this.\n",
      "INFO:fbprophet:n_changepoints greater than number of observations. Using 10.\n"
     ]
    },
    {
     "name": "stdout",
     "output_type": "stream",
     "text": [
      "\n",
      " Total Deaths\n",
      "          ds           yhat     yhat_lower     yhat_upper\n",
      "0 2021-12-31  113719.284638  112726.749290  114665.976501\n",
      "1 2022-12-31  114004.638976  113016.567520  114969.137132\n",
      "2 2023-12-31  114496.187934  113456.336356  115578.991903\n"
     ]
    },
    {
     "data": {
      "image/png": "[encoded data removed]",
      "text/plain": [
       "<Figure size 1080x504 with 1 Axes>"
      ]
     },
     "metadata": {},
     "output_type": "display_data"
    },
    {
     "name": "stderr",
     "output_type": "stream",
     "text": [
      "INFO:fbprophet:Disabling weekly seasonality. Run prophet with weekly_seasonality=True to override this.\n",
      "INFO:fbprophet:Disabling daily seasonality. Run prophet with daily_seasonality=True to override this.\n",
      "INFO:fbprophet:n_changepoints greater than number of observations. Using 10.\n"
     ]
    },
    {
     "name": "stdout",
     "output_type": "stream",
     "text": [
      "\n",
      " Male Deaths\n",
      "          ds          yhat    yhat_lower    yhat_upper\n",
      "0 2021-12-31  59343.176917  58504.960060  60184.237818\n",
      "1 2022-12-31  59668.486898  58869.684479  60462.999631\n",
      "2 2023-12-31  59929.536863  59110.493768  60646.320747\n"
     ]
    },
    {
     "data": {
      "image/png": "[encoded data removed]",
      "text/plain": [
       "<Figure size 1080x504 with 1 Axes>"
      ]
     },
     "metadata": {},
     "output_type": "display_data"
    },
    {
     "name": "stderr",
     "output_type": "stream",
     "text": [
      "INFO:fbprophet:Disabling weekly seasonality. Run prophet with weekly_seasonality=True to override this.\n",
      "INFO:fbprophet:Disabling daily seasonality. Run prophet with daily_seasonality=True to override this.\n",
      "INFO:fbprophet:n_changepoints greater than number of observations. Using 10.\n"
     ]
    },
    {
     "name": "stdout",
     "output_type": "stream",
     "text": [
      "\n",
      " Female Deaths\n",
      "          ds          yhat    yhat_lower    yhat_upper\n",
      "0 2021-12-31  54253.093300  53793.883268  54740.144505\n",
      "1 2022-12-31  54098.052569  53577.276047  54555.019381\n",
      "2 2023-12-31  54089.196228  53578.714340  54605.052085\n"
     ]
    },
    {
     "data": {
      "image/png": "[encoded data removed]",
      "text/plain": [
       "<Figure size 1080x504 with 1 Axes>"
      ]
     },
     "metadata": {},
     "output_type": "display_data"
    }
   ],
   "source": [
    "series = {'Total Deaths': Total_series,'Male Deaths' : Male_series, 'Female Deaths' : Female_series}\n",
    "\n",
    "for key in series:\n",
    "  # define the model\n",
    "  model = Prophet()\n",
    "  # fit the model\n",
    "  model.fit(series[key])\n",
    "  # define the period for which we want a prediction\n",
    "  future = list()\n",
    "  for i in range(2021, 2024):\n",
    "    date = pd.to_datetime(i, format='%Y') + pd.offsets.YearEnd(0)\n",
    "    future.append([date])\n",
    "  print(\"\\n\",key)\n",
    "  TS_Summary(future)"
   ]
  },
  {
   "cell_type": "markdown",
   "metadata": {
    "id": "SuzrMZNAd4hk"
   },
   "source": [
    "## Regression"
   ]
  },
  {
   "cell_type": "code",
   "execution_count": null,
   "metadata": {
    "colab": {
     "base_uri": "https://localhost:8080/",
     "height": 423
    },
    "id": "UEAvgMfNdzUG",
    "outputId": "4647b55f-8627-43d0-9fe4-c2661a2f8515"
   },
   "outputs": [
    {
     "data": {
      "text/html": [
       "<div>\n",
       "<style scoped>\n",
       "    .dataframe tbody tr th:only-of-type {\n",
       "        vertical-align: middle;\n",
       "    }\n",
       "\n",
       "    .dataframe tbody tr th {\n",
       "        vertical-align: top;\n",
       "    }\n",
       "\n",
       "    .dataframe thead th {\n",
       "        text-align: right;\n",
       "    }\n",
       "</style>\n",
       "<table border=\"1\" class=\"dataframe\">\n",
       "  <thead>\n",
       "    <tr style=\"text-align: right;\">\n",
       "      <th></th>\n",
       "      <th>Area of Residence</th>\n",
       "      <th>Year</th>\n",
       "      <th>Age at Death</th>\n",
       "      <th>Female</th>\n",
       "      <th>Male</th>\n",
       "      <th>_Total</th>\n",
       "    </tr>\n",
       "  </thead>\n",
       "  <tbody>\n",
       "    <tr>\n",
       "      <th>0</th>\n",
       "      <td>Arklow Town</td>\n",
       "      <td>2007</td>\n",
       "      <td>1 - 4 years</td>\n",
       "      <td>0</td>\n",
       "      <td>0</td>\n",
       "      <td>0</td>\n",
       "    </tr>\n",
       "    <tr>\n",
       "      <th>1</th>\n",
       "      <td>Arklow Town</td>\n",
       "      <td>2007</td>\n",
       "      <td>10 - 14 years</td>\n",
       "      <td>0</td>\n",
       "      <td>0</td>\n",
       "      <td>0</td>\n",
       "    </tr>\n",
       "    <tr>\n",
       "      <th>2</th>\n",
       "      <td>Arklow Town</td>\n",
       "      <td>2007</td>\n",
       "      <td>15 - 19 years</td>\n",
       "      <td>0</td>\n",
       "      <td>0</td>\n",
       "      <td>0</td>\n",
       "    </tr>\n",
       "    <tr>\n",
       "      <th>3</th>\n",
       "      <td>Arklow Town</td>\n",
       "      <td>2007</td>\n",
       "      <td>20 - 24 years</td>\n",
       "      <td>0</td>\n",
       "      <td>2</td>\n",
       "      <td>2</td>\n",
       "    </tr>\n",
       "    <tr>\n",
       "      <th>4</th>\n",
       "      <td>Arklow Town</td>\n",
       "      <td>2007</td>\n",
       "      <td>25 - 29 years</td>\n",
       "      <td>1</td>\n",
       "      <td>0</td>\n",
       "      <td>1</td>\n",
       "    </tr>\n",
       "    <tr>\n",
       "      <th>...</th>\n",
       "      <td>...</td>\n",
       "      <td>...</td>\n",
       "      <td>...</td>\n",
       "      <td>...</td>\n",
       "      <td>...</td>\n",
       "      <td>...</td>\n",
       "    </tr>\n",
       "    <tr>\n",
       "      <th>30585</th>\n",
       "      <td>Youghal Town</td>\n",
       "      <td>2020</td>\n",
       "      <td>70 - 74 years</td>\n",
       "      <td>2</td>\n",
       "      <td>6</td>\n",
       "      <td>8</td>\n",
       "    </tr>\n",
       "    <tr>\n",
       "      <th>30586</th>\n",
       "      <td>Youghal Town</td>\n",
       "      <td>2020</td>\n",
       "      <td>75 - 79 years</td>\n",
       "      <td>4</td>\n",
       "      <td>2</td>\n",
       "      <td>6</td>\n",
       "    </tr>\n",
       "    <tr>\n",
       "      <th>30587</th>\n",
       "      <td>Youghal Town</td>\n",
       "      <td>2020</td>\n",
       "      <td>80 - 84 years</td>\n",
       "      <td>4</td>\n",
       "      <td>4</td>\n",
       "      <td>8</td>\n",
       "    </tr>\n",
       "    <tr>\n",
       "      <th>30588</th>\n",
       "      <td>Youghal Town</td>\n",
       "      <td>2020</td>\n",
       "      <td>85 years and over</td>\n",
       "      <td>13</td>\n",
       "      <td>10</td>\n",
       "      <td>23</td>\n",
       "    </tr>\n",
       "    <tr>\n",
       "      <th>30589</th>\n",
       "      <td>Youghal Town</td>\n",
       "      <td>2020</td>\n",
       "      <td>Under 1 year</td>\n",
       "      <td>0</td>\n",
       "      <td>0</td>\n",
       "      <td>0</td>\n",
       "    </tr>\n",
       "  </tbody>\n",
       "</table>\n",
       "<p>30590 rows × 6 columns</p>\n",
       "</div>"
      ],
      "text/plain": [
       "      Area of Residence  Year       Age at Death  Female  Male  _Total\n",
       "0           Arklow Town  2007        1 - 4 years       0     0       0\n",
       "1           Arklow Town  2007      10 - 14 years       0     0       0\n",
       "2           Arklow Town  2007      15 - 19 years       0     0       0\n",
       "3           Arklow Town  2007      20 - 24 years       0     2       2\n",
       "4           Arklow Town  2007      25 - 29 years       1     0       1\n",
       "...                 ...   ...                ...     ...   ...     ...\n",
       "30585      Youghal Town  2020      70 - 74 years       2     6       8\n",
       "30586      Youghal Town  2020      75 - 79 years       4     2       6\n",
       "30587      Youghal Town  2020      80 - 84 years       4     4       8\n",
       "30588      Youghal Town  2020  85 years and over      13    10      23\n",
       "30589      Youghal Town  2020       Under 1 year       0     0       0\n",
       "\n",
       "[30590 rows x 6 columns]"
      ]
     },
     "execution_count": 13,
     "metadata": {},
     "output_type": "execute_result"
    }
   ],
   "source": [
    "df"
   ]
  },
  {
   "cell_type": "code",
   "execution_count": null,
   "metadata": {
    "colab": {
     "base_uri": "https://localhost:8080/",
     "height": 706
    },
    "id": "hKroN51ud15_",
    "outputId": "4aa7742f-b89b-4b50-8db5-dcec21333232"
   },
   "outputs": [
    {
     "data": {
      "image/png": "[encoded data removed]",
      "text/plain": [
       "<Figure size 1296x720 with 1 Axes>"
      ]
     },
     "metadata": {},
     "output_type": "display_data"
    }
   ],
   "source": [
    "temp = df.groupby([\"Age at Death\"])[\"Female\", \"Male\"].sum()\n",
    "\n",
    "temp.plot.bar(figsize=((18,10)))\n",
    "plt.legend([ \"Female\", \"Male\"])\n",
    "plt.title(\"Deaths count over year 2007 - 2020\")\n",
    "plt.ylabel(\"Deaths Count\")\n",
    "plt.show()"
   ]
  },
  {
   "cell_type": "markdown",
   "metadata": {
    "id": "XIbLwVHB9LkO"
   },
   "source": [
    "From the above graph, we can conclude that - <br> Most of the female deaths are occuring in the age group of 85 year and over. Females are tend to live longer than males"
   ]
  },
  {
   "cell_type": "code",
   "execution_count": null,
   "metadata": {
    "colab": {
     "base_uri": "https://localhost:8080/",
     "height": 706
    },
    "id": "mv_vbS4J8Lr5",
    "outputId": "dce57430-7ee3-488f-d1b6-c581161f1bed"
   },
   "outputs": [
    {
     "data": {
      "image/png": "[encoded data removed]",
      "text/plain": [
       "<Figure size 1296x720 with 1 Axes>"
      ]
     },
     "metadata": {},
     "output_type": "display_data"
    }
   ],
   "source": [
    "temp = df.groupby([\"Age at Death\"])[\"_Total\"].sum()\n",
    "\n",
    "temp.plot.bar(figsize=((18,10)))\n",
    "plt.legend([ \"Total\"])\n",
    "plt.title(\"Deaths count over year 2007 - 2020\")\n",
    "plt.ylabel(\"Deaths Count\")\n",
    "plt.show()"
   ]
  },
  {
   "cell_type": "code",
   "execution_count": null,
   "metadata": {
    "id": "b1jCjHe689HO"
   },
   "outputs": [],
   "source": []
  },
  {
   "cell_type": "markdown",
   "metadata": {
    "id": "Rywcewlj-M3m"
   },
   "source": [
    "### Feature Selection"
   ]
  },
  {
   "cell_type": "markdown",
   "metadata": {
    "id": "EqBHoYzQ-RS0"
   },
   "source": [
    "### Statistical Feature Selection (Categorical Vs Continuous) using ANOVA test\n",
    "Analysis of variance(ANOVA) is performed to check if there is any relationship between the given continuous and categorical variable\n",
    "\n",
    "Assumption(H0): There is NO relation between the given variables (i.e. The average(mean) values of the numeric Target variable is same for all the groups in the categorical Predictor variable) ANOVA Test result: Probability of H0 being true"
   ]
  },
  {
   "cell_type": "code",
   "execution_count": null,
   "metadata": {
    "id": "fitWoDzB9fmI"
   },
   "outputs": [],
   "source": [
    "# Defining a function to find the statistical relationship with all the categorical variables\n",
    "def FunctionAnova(inpData, TargetVariable, CategoricalPredictorList):\n",
    "    from scipy.stats import f_oneway\n",
    "\n",
    "    # Creating an empty list of final selected predictors\n",
    "    SelectedPredictors=[]\n",
    "    \n",
    "    print('##### ANOVA Results ##### \\n')\n",
    "    for predictor in CategoricalPredictorList:\n",
    "        CategoryGroupLists=inpData.groupby(predictor)[TargetVariable].apply(list)\n",
    "        AnovaResults = f_oneway(*CategoryGroupLists)\n",
    "        \n",
    "        # If the ANOVA P-Value is <0.05, that means we reject H0\n",
    "        if (AnovaResults[1] < 0.05):\n",
    "            print(predictor, 'is correlated with', TargetVariable, '| P-Value:', AnovaResults[1])\n",
    "            SelectedPredictors.append(predictor)\n",
    "        else:\n",
    "            print(predictor, 'is NOT correlated with', TargetVariable, '| P-Value:', AnovaResults[1])\n",
    "    \n",
    "    return(SelectedPredictors)"
   ]
  },
  {
   "cell_type": "code",
   "execution_count": null,
   "metadata": {
    "colab": {
     "base_uri": "https://localhost:8080/"
    },
    "id": "4NNvpVSQ9fqB",
    "outputId": "0d90c458-fc20-43dd-d6c5-17e10bb10c3a"
   },
   "outputs": [
    {
     "name": "stdout",
     "output_type": "stream",
     "text": [
      "##### ANOVA Results ##### \n",
      "\n",
      "Age at Death is correlated with _Total | P-Value: 0.0\n",
      "Area of Residence is correlated with _Total | P-Value: 0.0\n",
      "Year is NOT correlated with _Total | P-Value: 0.9999838268251429\n"
     ]
    },
    {
     "data": {
      "text/plain": [
       "['Age at Death', 'Area of Residence']"
      ]
     },
     "execution_count": 17,
     "metadata": {},
     "output_type": "execute_result"
    }
   ],
   "source": [
    "# Calling the function to check which categorical variables are correlated with target\n",
    "CategoricalPredictorList=['Age at Death', 'Area of Residence', \"Year\"]\n",
    "FunctionAnova(inpData=df, \n",
    "              TargetVariable='_Total', \n",
    "              CategoricalPredictorList=CategoricalPredictorList)"
   ]
  },
  {
   "cell_type": "code",
   "execution_count": null,
   "metadata": {
    "colab": {
     "base_uri": "https://localhost:8080/",
     "height": 488
    },
    "id": "C5HUUNq1-z4Z",
    "outputId": "1b29fd03-86b5-4eb9-8096-66cbdfc2079e"
   },
   "outputs": [
    {
     "data": {
      "image/png": "[encoded data removed]",
      "text/plain": [
       "<Figure size 576x576 with 2 Axes>"
      ]
     },
     "metadata": {},
     "output_type": "display_data"
    }
   ],
   "source": [
    "plt.figure(figsize=(8,8))\n",
    "sns.heatmap(df[[\"Year\", \"_Total\"]].corr() , annot=True , cmap = \"magma\" )\n",
    "plt.show()"
   ]
  },
  {
   "cell_type": "code",
   "execution_count": null,
   "metadata": {
    "colab": {
     "base_uri": "https://localhost:8080/",
     "height": 206
    },
    "id": "fJKRQE5D-z7Y",
    "outputId": "adee11c8-b91e-41b4-c4d6-7b919b3956b3"
   },
   "outputs": [
    {
     "data": {
      "text/html": [
       "<div>\n",
       "<style scoped>\n",
       "    .dataframe tbody tr th:only-of-type {\n",
       "        vertical-align: middle;\n",
       "    }\n",
       "\n",
       "    .dataframe tbody tr th {\n",
       "        vertical-align: top;\n",
       "    }\n",
       "\n",
       "    .dataframe thead th {\n",
       "        text-align: right;\n",
       "    }\n",
       "</style>\n",
       "<table border=\"1\" class=\"dataframe\">\n",
       "  <thead>\n",
       "    <tr style=\"text-align: right;\">\n",
       "      <th></th>\n",
       "      <th>Age at Death</th>\n",
       "      <th>Area of Residence</th>\n",
       "      <th>Year</th>\n",
       "      <th>_Total</th>\n",
       "    </tr>\n",
       "  </thead>\n",
       "  <tbody>\n",
       "    <tr>\n",
       "      <th>0</th>\n",
       "      <td>1 - 4 years</td>\n",
       "      <td>Arklow Town</td>\n",
       "      <td>2007</td>\n",
       "      <td>0</td>\n",
       "    </tr>\n",
       "    <tr>\n",
       "      <th>1</th>\n",
       "      <td>10 - 14 years</td>\n",
       "      <td>Arklow Town</td>\n",
       "      <td>2007</td>\n",
       "      <td>0</td>\n",
       "    </tr>\n",
       "    <tr>\n",
       "      <th>2</th>\n",
       "      <td>15 - 19 years</td>\n",
       "      <td>Arklow Town</td>\n",
       "      <td>2007</td>\n",
       "      <td>0</td>\n",
       "    </tr>\n",
       "    <tr>\n",
       "      <th>3</th>\n",
       "      <td>20 - 24 years</td>\n",
       "      <td>Arklow Town</td>\n",
       "      <td>2007</td>\n",
       "      <td>2</td>\n",
       "    </tr>\n",
       "    <tr>\n",
       "      <th>4</th>\n",
       "      <td>25 - 29 years</td>\n",
       "      <td>Arklow Town</td>\n",
       "      <td>2007</td>\n",
       "      <td>1</td>\n",
       "    </tr>\n",
       "  </tbody>\n",
       "</table>\n",
       "</div>"
      ],
      "text/plain": [
       "    Age at Death Area of Residence  Year  _Total\n",
       "0    1 - 4 years       Arklow Town  2007       0\n",
       "1  10 - 14 years       Arklow Town  2007       0\n",
       "2  15 - 19 years       Arklow Town  2007       0\n",
       "3  20 - 24 years       Arklow Town  2007       2\n",
       "4  25 - 29 years       Arklow Town  2007       1"
      ]
     },
     "execution_count": 19,
     "metadata": {},
     "output_type": "execute_result"
    }
   ],
   "source": [
    "SelectedColumns=['Age at Death', 'Area of Residence', 'Year', '_Total']\n",
    "\n",
    "# Selecting final columns\n",
    "dataML=df[SelectedColumns]\n",
    "dataML.head()\n"
   ]
  },
  {
   "cell_type": "markdown",
   "metadata": {
    "id": "NFhrL0KXBBxL"
   },
   "source": [
    "## Data Pre-processing for Machine Learning"
   ]
  },
  {
   "cell_type": "code",
   "execution_count": null,
   "metadata": {
    "colab": {
     "base_uri": "https://localhost:8080/",
     "height": 462
    },
    "id": "C5eGF-AaC6Bu",
    "outputId": "26ae8c12-f0d2-44b8-ca84-70faf4ab58b7"
   },
   "outputs": [
    {
     "data": {
      "text/plain": [
       "<matplotlib.axes._subplots.AxesSubplot at 0x7f7f0f901350>"
      ]
     },
     "execution_count": 20,
     "metadata": {},
     "output_type": "execute_result"
    },
    {
     "data": {
      "image/png": "[encoded data removed]",
      "text/plain": [
       "<Figure size 1080x504 with 1 Axes>"
      ]
     },
     "metadata": {},
     "output_type": "display_data"
    }
   ],
   "source": [
    "plt.figure(figsize=((15,7)))\n",
    "sns.distplot(dataML[\"_Total\"], bins = 50 )"
   ]
  },
  {
   "cell_type": "code",
   "execution_count": null,
   "metadata": {
    "colab": {
     "base_uri": "https://localhost:8080/",
     "height": 423
    },
    "id": "odYUX1hdC6ET",
    "outputId": "3ee47f3c-d51f-40ae-a146-1ae61651c1a3"
   },
   "outputs": [
    {
     "data": {
      "text/html": [
       "<div>\n",
       "<style scoped>\n",
       "    .dataframe tbody tr th:only-of-type {\n",
       "        vertical-align: middle;\n",
       "    }\n",
       "\n",
       "    .dataframe tbody tr th {\n",
       "        vertical-align: top;\n",
       "    }\n",
       "\n",
       "    .dataframe thead th {\n",
       "        text-align: right;\n",
       "    }\n",
       "</style>\n",
       "<table border=\"1\" class=\"dataframe\">\n",
       "  <thead>\n",
       "    <tr style=\"text-align: right;\">\n",
       "      <th></th>\n",
       "      <th>Age at Death</th>\n",
       "      <th>Area of Residence</th>\n",
       "      <th>Year</th>\n",
       "      <th>_Total</th>\n",
       "    </tr>\n",
       "  </thead>\n",
       "  <tbody>\n",
       "    <tr>\n",
       "      <th>12519</th>\n",
       "      <td>85 years and over</td>\n",
       "      <td>Leinster</td>\n",
       "      <td>2007</td>\n",
       "      <td>2551</td>\n",
       "    </tr>\n",
       "    <tr>\n",
       "      <th>12537</th>\n",
       "      <td>80 - 84 years</td>\n",
       "      <td>Leinster</td>\n",
       "      <td>2008</td>\n",
       "      <td>2394</td>\n",
       "    </tr>\n",
       "    <tr>\n",
       "      <th>12538</th>\n",
       "      <td>85 years and over</td>\n",
       "      <td>Leinster</td>\n",
       "      <td>2008</td>\n",
       "      <td>3799</td>\n",
       "    </tr>\n",
       "    <tr>\n",
       "      <th>12556</th>\n",
       "      <td>80 - 84 years</td>\n",
       "      <td>Leinster</td>\n",
       "      <td>2009</td>\n",
       "      <td>2409</td>\n",
       "    </tr>\n",
       "    <tr>\n",
       "      <th>12557</th>\n",
       "      <td>85 years and over</td>\n",
       "      <td>Leinster</td>\n",
       "      <td>2009</td>\n",
       "      <td>3986</td>\n",
       "    </tr>\n",
       "    <tr>\n",
       "      <th>...</th>\n",
       "      <td>...</td>\n",
       "      <td>...</td>\n",
       "      <td>...</td>\n",
       "      <td>...</td>\n",
       "    </tr>\n",
       "    <tr>\n",
       "      <th>18880</th>\n",
       "      <td>65 - 69 years</td>\n",
       "      <td>ROI Total</td>\n",
       "      <td>2020</td>\n",
       "      <td>2320</td>\n",
       "    </tr>\n",
       "    <tr>\n",
       "      <th>18881</th>\n",
       "      <td>70 - 74 years</td>\n",
       "      <td>ROI Total</td>\n",
       "      <td>2020</td>\n",
       "      <td>3502</td>\n",
       "    </tr>\n",
       "    <tr>\n",
       "      <th>18882</th>\n",
       "      <td>75 - 79 years</td>\n",
       "      <td>ROI Total</td>\n",
       "      <td>2020</td>\n",
       "      <td>4045</td>\n",
       "    </tr>\n",
       "    <tr>\n",
       "      <th>18883</th>\n",
       "      <td>80 - 84 years</td>\n",
       "      <td>ROI Total</td>\n",
       "      <td>2020</td>\n",
       "      <td>5301</td>\n",
       "    </tr>\n",
       "    <tr>\n",
       "      <th>18884</th>\n",
       "      <td>85 years and over</td>\n",
       "      <td>ROI Total</td>\n",
       "      <td>2020</td>\n",
       "      <td>11272</td>\n",
       "    </tr>\n",
       "  </tbody>\n",
       "</table>\n",
       "<p>116 rows × 4 columns</p>\n",
       "</div>"
      ],
      "text/plain": [
       "            Age at Death Area of Residence  Year  _Total\n",
       "12519  85 years and over          Leinster  2007    2551\n",
       "12537      80 - 84 years          Leinster  2008    2394\n",
       "12538  85 years and over          Leinster  2008    3799\n",
       "12556      80 - 84 years          Leinster  2009    2409\n",
       "12557  85 years and over          Leinster  2009    3986\n",
       "...                  ...               ...   ...     ...\n",
       "18880      65 - 69 years         ROI Total  2020    2320\n",
       "18881      70 - 74 years         ROI Total  2020    3502\n",
       "18882      75 - 79 years         ROI Total  2020    4045\n",
       "18883      80 - 84 years         ROI Total  2020    5301\n",
       "18884  85 years and over         ROI Total  2020   11272\n",
       "\n",
       "[116 rows x 4 columns]"
      ]
     },
     "execution_count": 21,
     "metadata": {},
     "output_type": "execute_result"
    }
   ],
   "source": [
    "dataML[dataML[\"_Total\"] > 2000]"
   ]
  },
  {
   "cell_type": "code",
   "execution_count": null,
   "metadata": {
    "colab": {
     "base_uri": "https://localhost:8080/",
     "height": 423
    },
    "id": "WW5KPilADKDi",
    "outputId": "77b0381c-b27f-4d3f-905e-a6bc48b4cc05"
   },
   "outputs": [
    {
     "data": {
      "text/html": [
       "<div>\n",
       "<style scoped>\n",
       "    .dataframe tbody tr th:only-of-type {\n",
       "        vertical-align: middle;\n",
       "    }\n",
       "\n",
       "    .dataframe tbody tr th {\n",
       "        vertical-align: top;\n",
       "    }\n",
       "\n",
       "    .dataframe thead th {\n",
       "        text-align: right;\n",
       "    }\n",
       "</style>\n",
       "<table border=\"1\" class=\"dataframe\">\n",
       "  <thead>\n",
       "    <tr style=\"text-align: right;\">\n",
       "      <th></th>\n",
       "      <th>Age at Death</th>\n",
       "      <th>Area of Residence</th>\n",
       "      <th>Year</th>\n",
       "      <th>_Total</th>\n",
       "    </tr>\n",
       "  </thead>\n",
       "  <tbody>\n",
       "    <tr>\n",
       "      <th>18620</th>\n",
       "      <td>1 - 4 years</td>\n",
       "      <td>ROI Total</td>\n",
       "      <td>2007</td>\n",
       "      <td>54</td>\n",
       "    </tr>\n",
       "    <tr>\n",
       "      <th>18621</th>\n",
       "      <td>10 - 14 years</td>\n",
       "      <td>ROI Total</td>\n",
       "      <td>2007</td>\n",
       "      <td>50</td>\n",
       "    </tr>\n",
       "    <tr>\n",
       "      <th>18622</th>\n",
       "      <td>15 - 19 years</td>\n",
       "      <td>ROI Total</td>\n",
       "      <td>2007</td>\n",
       "      <td>149</td>\n",
       "    </tr>\n",
       "    <tr>\n",
       "      <th>18623</th>\n",
       "      <td>20 - 24 years</td>\n",
       "      <td>ROI Total</td>\n",
       "      <td>2007</td>\n",
       "      <td>202</td>\n",
       "    </tr>\n",
       "    <tr>\n",
       "      <th>18624</th>\n",
       "      <td>25 - 29 years</td>\n",
       "      <td>ROI Total</td>\n",
       "      <td>2007</td>\n",
       "      <td>248</td>\n",
       "    </tr>\n",
       "    <tr>\n",
       "      <th>...</th>\n",
       "      <td>...</td>\n",
       "      <td>...</td>\n",
       "      <td>...</td>\n",
       "      <td>...</td>\n",
       "    </tr>\n",
       "    <tr>\n",
       "      <th>18881</th>\n",
       "      <td>70 - 74 years</td>\n",
       "      <td>ROI Total</td>\n",
       "      <td>2020</td>\n",
       "      <td>3502</td>\n",
       "    </tr>\n",
       "    <tr>\n",
       "      <th>18882</th>\n",
       "      <td>75 - 79 years</td>\n",
       "      <td>ROI Total</td>\n",
       "      <td>2020</td>\n",
       "      <td>4045</td>\n",
       "    </tr>\n",
       "    <tr>\n",
       "      <th>18883</th>\n",
       "      <td>80 - 84 years</td>\n",
       "      <td>ROI Total</td>\n",
       "      <td>2020</td>\n",
       "      <td>5301</td>\n",
       "    </tr>\n",
       "    <tr>\n",
       "      <th>18884</th>\n",
       "      <td>85 years and over</td>\n",
       "      <td>ROI Total</td>\n",
       "      <td>2020</td>\n",
       "      <td>11272</td>\n",
       "    </tr>\n",
       "    <tr>\n",
       "      <th>18885</th>\n",
       "      <td>Under 1 year</td>\n",
       "      <td>ROI Total</td>\n",
       "      <td>2020</td>\n",
       "      <td>153</td>\n",
       "    </tr>\n",
       "  </tbody>\n",
       "</table>\n",
       "<p>266 rows × 4 columns</p>\n",
       "</div>"
      ],
      "text/plain": [
       "            Age at Death Area of Residence  Year  _Total\n",
       "18620        1 - 4 years         ROI Total  2007      54\n",
       "18621      10 - 14 years         ROI Total  2007      50\n",
       "18622      15 - 19 years         ROI Total  2007     149\n",
       "18623      20 - 24 years         ROI Total  2007     202\n",
       "18624      25 - 29 years         ROI Total  2007     248\n",
       "...                  ...               ...   ...     ...\n",
       "18881      70 - 74 years         ROI Total  2020    3502\n",
       "18882      75 - 79 years         ROI Total  2020    4045\n",
       "18883      80 - 84 years         ROI Total  2020    5301\n",
       "18884  85 years and over         ROI Total  2020   11272\n",
       "18885       Under 1 year         ROI Total  2020     153\n",
       "\n",
       "[266 rows x 4 columns]"
      ]
     },
     "execution_count": 22,
     "metadata": {},
     "output_type": "execute_result"
    }
   ],
   "source": [
    "dataML[dataML[\"Area of Residence\"] == \"ROI Total\"]"
   ]
  },
  {
   "cell_type": "code",
   "execution_count": null,
   "metadata": {
    "colab": {
     "base_uri": "https://localhost:8080/"
    },
    "id": "mlHwuCA_DKGJ",
    "outputId": "0f0a9a32-93d5-4164-deb6-4c10e004a948"
   },
   "outputs": [
    {
     "data": {
      "text/plain": [
       "Area of Residence\n",
       "ROI Total          414381\n",
       "Leinster           203167\n",
       "Munster            123695\n",
       "Dublin City         58507\n",
       "Connacht            54139\n",
       "                    ...  \n",
       "Trim Town             520\n",
       "Kinsale Town          481\n",
       "Templemore Town       402\n",
       "Bundoran Town         379\n",
       "Clones Town           328\n",
       "Name: _Total, Length: 115, dtype: int64"
      ]
     },
     "execution_count": 23,
     "metadata": {},
     "output_type": "execute_result"
    }
   ],
   "source": [
    "temp = dataML.groupby([\"Area of Residence\"])[\"_Total\"].sum().sort_values(ascending = False)\n",
    "temp"
   ]
  },
  {
   "cell_type": "code",
   "execution_count": null,
   "metadata": {
    "id": "3qBS9HuoGlWD"
   },
   "outputs": [],
   "source": [
    "dataML = dataML[dataML[\"Area of Residence\"] != \"ROI Total\"]"
   ]
  },
  {
   "cell_type": "code",
   "execution_count": null,
   "metadata": {
    "colab": {
     "base_uri": "https://localhost:8080/",
     "height": 463
    },
    "id": "l541z9oFVU5Q",
    "outputId": "00b8cc0e-f4de-41f6-c5fa-77bdb728524a"
   },
   "outputs": [
    {
     "data": {
      "text/plain": [
       "<matplotlib.axes._subplots.AxesSubplot at 0x7f7f0f90edd0>"
      ]
     },
     "execution_count": 25,
     "metadata": {},
     "output_type": "execute_result"
    },
    {
     "data": {
      "image/png": "[encoded data removed]",
      "text/plain": [
       "<Figure size 1080x504 with 1 Axes>"
      ]
     },
     "metadata": {},
     "output_type": "display_data"
    }
   ],
   "source": [
    "plt.figure(figsize=((15,7)))\n",
    "sns.distplot(dataML[\"_Total\"], bins = 50 )"
   ]
  },
  {
   "cell_type": "code",
   "execution_count": null,
   "metadata": {
    "colab": {
     "base_uri": "https://localhost:8080/",
     "height": 423
    },
    "id": "QqDDNPqTVVHj",
    "outputId": "82bf0691-283d-4dda-cf91-fffe6aa00d59"
   },
   "outputs": [
    {
     "data": {
      "text/html": [
       "<div>\n",
       "<style scoped>\n",
       "    .dataframe tbody tr th:only-of-type {\n",
       "        vertical-align: middle;\n",
       "    }\n",
       "\n",
       "    .dataframe tbody tr th {\n",
       "        vertical-align: top;\n",
       "    }\n",
       "\n",
       "    .dataframe thead th {\n",
       "        text-align: right;\n",
       "    }\n",
       "</style>\n",
       "<table border=\"1\" class=\"dataframe\">\n",
       "  <thead>\n",
       "    <tr style=\"text-align: right;\">\n",
       "      <th></th>\n",
       "      <th>Age at Death</th>\n",
       "      <th>Area of Residence</th>\n",
       "      <th>Year</th>\n",
       "      <th>_Total</th>\n",
       "    </tr>\n",
       "  </thead>\n",
       "  <tbody>\n",
       "    <tr>\n",
       "      <th>0</th>\n",
       "      <td>1 - 4 years</td>\n",
       "      <td>Arklow Town</td>\n",
       "      <td>2007</td>\n",
       "      <td>0</td>\n",
       "    </tr>\n",
       "    <tr>\n",
       "      <th>1</th>\n",
       "      <td>10 - 14 years</td>\n",
       "      <td>Arklow Town</td>\n",
       "      <td>2007</td>\n",
       "      <td>0</td>\n",
       "    </tr>\n",
       "    <tr>\n",
       "      <th>2</th>\n",
       "      <td>15 - 19 years</td>\n",
       "      <td>Arklow Town</td>\n",
       "      <td>2007</td>\n",
       "      <td>0</td>\n",
       "    </tr>\n",
       "    <tr>\n",
       "      <th>3</th>\n",
       "      <td>20 - 24 years</td>\n",
       "      <td>Arklow Town</td>\n",
       "      <td>2007</td>\n",
       "      <td>2</td>\n",
       "    </tr>\n",
       "    <tr>\n",
       "      <th>4</th>\n",
       "      <td>25 - 29 years</td>\n",
       "      <td>Arklow Town</td>\n",
       "      <td>2007</td>\n",
       "      <td>1</td>\n",
       "    </tr>\n",
       "    <tr>\n",
       "      <th>...</th>\n",
       "      <td>...</td>\n",
       "      <td>...</td>\n",
       "      <td>...</td>\n",
       "      <td>...</td>\n",
       "    </tr>\n",
       "    <tr>\n",
       "      <th>30585</th>\n",
       "      <td>70 - 74 years</td>\n",
       "      <td>Youghal Town</td>\n",
       "      <td>2020</td>\n",
       "      <td>8</td>\n",
       "    </tr>\n",
       "    <tr>\n",
       "      <th>30586</th>\n",
       "      <td>75 - 79 years</td>\n",
       "      <td>Youghal Town</td>\n",
       "      <td>2020</td>\n",
       "      <td>6</td>\n",
       "    </tr>\n",
       "    <tr>\n",
       "      <th>30587</th>\n",
       "      <td>80 - 84 years</td>\n",
       "      <td>Youghal Town</td>\n",
       "      <td>2020</td>\n",
       "      <td>8</td>\n",
       "    </tr>\n",
       "    <tr>\n",
       "      <th>30588</th>\n",
       "      <td>85 years and over</td>\n",
       "      <td>Youghal Town</td>\n",
       "      <td>2020</td>\n",
       "      <td>23</td>\n",
       "    </tr>\n",
       "    <tr>\n",
       "      <th>30589</th>\n",
       "      <td>Under 1 year</td>\n",
       "      <td>Youghal Town</td>\n",
       "      <td>2020</td>\n",
       "      <td>0</td>\n",
       "    </tr>\n",
       "  </tbody>\n",
       "</table>\n",
       "<p>30324 rows × 4 columns</p>\n",
       "</div>"
      ],
      "text/plain": [
       "            Age at Death Area of Residence  Year  _Total\n",
       "0            1 - 4 years       Arklow Town  2007       0\n",
       "1          10 - 14 years       Arklow Town  2007       0\n",
       "2          15 - 19 years       Arklow Town  2007       0\n",
       "3          20 - 24 years       Arklow Town  2007       2\n",
       "4          25 - 29 years       Arklow Town  2007       1\n",
       "...                  ...               ...   ...     ...\n",
       "30585      70 - 74 years      Youghal Town  2020       8\n",
       "30586      75 - 79 years      Youghal Town  2020       6\n",
       "30587      80 - 84 years      Youghal Town  2020       8\n",
       "30588  85 years and over      Youghal Town  2020      23\n",
       "30589       Under 1 year      Youghal Town  2020       0\n",
       "\n",
       "[30324 rows x 4 columns]"
      ]
     },
     "execution_count": 26,
     "metadata": {},
     "output_type": "execute_result"
    }
   ],
   "source": [
    "dataML"
   ]
  },
  {
   "cell_type": "code",
   "execution_count": null,
   "metadata": {
    "colab": {
     "base_uri": "https://localhost:8080/"
    },
    "id": "CUyoFJuDBD9c",
    "outputId": "f49a1163-c217-4f50-ecba-d926b348c48b"
   },
   "outputs": [
    {
     "name": "stdout",
     "output_type": "stream",
     "text": [
      "['1 - 4 years' '10 - 14 years' '15 - 19 years' '20 - 24 years'\n",
      " '25 - 29 years' '30 - 34 years' '35 - 39 years' '40 - 44 years'\n",
      " '45 - 49 years' '5 - 9 years' '50 - 54 years' '55 - 59 years'\n",
      " '60 - 64 years' '65 - 69 years' '70 - 74 years' '75 - 79 years'\n",
      " '80 - 84 years' '85 years and over' 'Under 1 year']\n",
      "['Arklow Town' 'Athlone Town' 'Athy Town' 'Ballina Town'\n",
      " 'Ballinasloe Town' 'Birr Town' 'Bray Town' 'Buncrana Town'\n",
      " 'Bundoran Town' 'Carlow' 'Carlow Town' 'Carrick-on-Suir Town'\n",
      " 'Carrickmacross Town' 'Cashel Town' 'Castlebar Town' 'Castleblaney Town'\n",
      " 'Cavan' 'Cavan Town' 'Clare' 'Clonakilty Town' 'Clones Town'\n",
      " 'Clonmel Borough' 'Cobh Town' 'Connacht' 'Cork City' 'Cork County'\n",
      " 'Donegal' 'Drogheda Borough' 'Dublin City' 'Dun Laoghaire Rathdown'\n",
      " 'Dundalk Town' 'Dungarvan Town' 'Ennis Town' 'Enniscorthy Town'\n",
      " 'Fermoy Town' 'Fingal' 'Galway City' 'Galway County' 'Kells Town' 'Kerry'\n",
      " 'Kildare' 'Kilkenny' 'Kilkenny Borough' 'Killarney Town' 'Kilrush Town'\n",
      " 'Kinsale Town' 'Laois' 'Leinster' 'Leitrim' 'Letterkenny Town'\n",
      " 'Limerick City' 'Limerick County' 'Listowel Town' 'Longford'\n",
      " 'Longford town' 'Louth' 'Macroom Town' 'Mallow Town' 'Mayo' 'Meath'\n",
      " 'Midleton Town' 'Monaghan' 'Monaghan Town' 'Munster' 'Naas Town'\n",
      " 'Navan Town' 'Nenagh Town' 'New Ross Town' 'North Tipperary' 'Offaly'\n",
      " 'Rest of Co. Carlow' 'Rest of Co. Cavan' 'Rest of Co. Clare'\n",
      " 'Rest of Co. Cork' 'Rest of Co. Donegal' 'Rest of Co. Galway'\n",
      " 'Rest of Co. Kerry' 'Rest of Co. Kildare' 'Rest of Co. Kilkenny'\n",
      " 'Rest of Co. Longford' 'Rest of Co. Louth' 'Rest of Co. Mayo'\n",
      " 'Rest of Co. Meath' 'Rest of Co. Monaghan' 'Rest of Co. Offaly'\n",
      " 'Rest of Co. Sligo' 'Rest of Co. Westmeath' 'Rest of Co. Wexford'\n",
      " 'Rest of North Tipperary' 'Rest of South Tipperary' 'Rest of Waterford'\n",
      " 'Rest of Wicklow' 'Roscommon' 'Skibbereen Town' 'Sligo' 'Sligo Borough'\n",
      " 'South Dublin' 'South Tipperary' 'Templemore Town' 'Thurles Town'\n",
      " 'Tipperary Town' 'Tralee Town' 'Trim Town' 'Tullamore Town' 'Ulster (pt)'\n",
      " 'Waterford City' 'Waterford County' 'Westmeath' 'Westport Town' 'Wexford'\n",
      " 'Wexford Borough' 'Wicklow' 'Wicklow Town' 'Youghal Town']\n"
     ]
    }
   ],
   "source": [
    "# label encode final_grade\n",
    "\n",
    "le = preprocessing.LabelEncoder()\n",
    "dataML[\"Age at Death\"] = le.fit_transform(dataML[\"Age at Death\"])\n",
    "ages_dict = le.classes_\n",
    "print(ages_dict)\n",
    "dataML[\"Area of Residence\"] = le.fit_transform(dataML[\"Area of Residence\"])\n",
    "area_dict = le.classes_\n",
    "print(area_dict)"
   ]
  },
  {
   "cell_type": "code",
   "execution_count": null,
   "metadata": {
    "colab": {
     "base_uri": "https://localhost:8080/",
     "height": 423
    },
    "id": "pPc-jsBoBEAO",
    "outputId": "b19c7850-1b22-469c-c537-bd9bcfe791cb"
   },
   "outputs": [
    {
     "data": {
      "text/html": [
       "<div>\n",
       "<style scoped>\n",
       "    .dataframe tbody tr th:only-of-type {\n",
       "        vertical-align: middle;\n",
       "    }\n",
       "\n",
       "    .dataframe tbody tr th {\n",
       "        vertical-align: top;\n",
       "    }\n",
       "\n",
       "    .dataframe thead th {\n",
       "        text-align: right;\n",
       "    }\n",
       "</style>\n",
       "<table border=\"1\" class=\"dataframe\">\n",
       "  <thead>\n",
       "    <tr style=\"text-align: right;\">\n",
       "      <th></th>\n",
       "      <th>Age at Death</th>\n",
       "      <th>Area of Residence</th>\n",
       "      <th>Year</th>\n",
       "      <th>_Total</th>\n",
       "    </tr>\n",
       "  </thead>\n",
       "  <tbody>\n",
       "    <tr>\n",
       "      <th>0</th>\n",
       "      <td>0</td>\n",
       "      <td>0</td>\n",
       "      <td>2007</td>\n",
       "      <td>0</td>\n",
       "    </tr>\n",
       "    <tr>\n",
       "      <th>1</th>\n",
       "      <td>1</td>\n",
       "      <td>0</td>\n",
       "      <td>2007</td>\n",
       "      <td>0</td>\n",
       "    </tr>\n",
       "    <tr>\n",
       "      <th>2</th>\n",
       "      <td>2</td>\n",
       "      <td>0</td>\n",
       "      <td>2007</td>\n",
       "      <td>0</td>\n",
       "    </tr>\n",
       "    <tr>\n",
       "      <th>3</th>\n",
       "      <td>3</td>\n",
       "      <td>0</td>\n",
       "      <td>2007</td>\n",
       "      <td>2</td>\n",
       "    </tr>\n",
       "    <tr>\n",
       "      <th>4</th>\n",
       "      <td>4</td>\n",
       "      <td>0</td>\n",
       "      <td>2007</td>\n",
       "      <td>1</td>\n",
       "    </tr>\n",
       "    <tr>\n",
       "      <th>...</th>\n",
       "      <td>...</td>\n",
       "      <td>...</td>\n",
       "      <td>...</td>\n",
       "      <td>...</td>\n",
       "    </tr>\n",
       "    <tr>\n",
       "      <th>30585</th>\n",
       "      <td>14</td>\n",
       "      <td>113</td>\n",
       "      <td>2020</td>\n",
       "      <td>8</td>\n",
       "    </tr>\n",
       "    <tr>\n",
       "      <th>30586</th>\n",
       "      <td>15</td>\n",
       "      <td>113</td>\n",
       "      <td>2020</td>\n",
       "      <td>6</td>\n",
       "    </tr>\n",
       "    <tr>\n",
       "      <th>30587</th>\n",
       "      <td>16</td>\n",
       "      <td>113</td>\n",
       "      <td>2020</td>\n",
       "      <td>8</td>\n",
       "    </tr>\n",
       "    <tr>\n",
       "      <th>30588</th>\n",
       "      <td>17</td>\n",
       "      <td>113</td>\n",
       "      <td>2020</td>\n",
       "      <td>23</td>\n",
       "    </tr>\n",
       "    <tr>\n",
       "      <th>30589</th>\n",
       "      <td>18</td>\n",
       "      <td>113</td>\n",
       "      <td>2020</td>\n",
       "      <td>0</td>\n",
       "    </tr>\n",
       "  </tbody>\n",
       "</table>\n",
       "<p>30324 rows × 4 columns</p>\n",
       "</div>"
      ],
      "text/plain": [
       "       Age at Death  Area of Residence  Year  _Total\n",
       "0                 0                  0  2007       0\n",
       "1                 1                  0  2007       0\n",
       "2                 2                  0  2007       0\n",
       "3                 3                  0  2007       2\n",
       "4                 4                  0  2007       1\n",
       "...             ...                ...   ...     ...\n",
       "30585            14                113  2020       8\n",
       "30586            15                113  2020       6\n",
       "30587            16                113  2020       8\n",
       "30588            17                113  2020      23\n",
       "30589            18                113  2020       0\n",
       "\n",
       "[30324 rows x 4 columns]"
      ]
     },
     "execution_count": 28,
     "metadata": {},
     "output_type": "execute_result"
    }
   ],
   "source": [
    "dataML"
   ]
  },
  {
   "cell_type": "code",
   "execution_count": null,
   "metadata": {
    "id": "9bSpDx-cBEC9"
   },
   "outputs": [],
   "source": [
    "# dataset train_test_split\n",
    "\n",
    "X = dataML.drop('_Total',axis=1)\n",
    "y = dataML._Total\n"
   ]
  },
  {
   "cell_type": "markdown",
   "metadata": {
    "id": "XoUySTZEbTKy"
   },
   "source": [
    "## Model Building"
   ]
  },
  {
   "cell_type": "code",
   "execution_count": null,
   "metadata": {
    "colab": {
     "base_uri": "https://localhost:8080/",
     "height": 613
    },
    "id": "0IfO81pMBEFs",
    "outputId": "bd12beed-567a-4cc7-e857-3817b13b5f5a"
   },
   "outputs": [
    {
     "name": "stdout",
     "output_type": "stream",
     "text": [
      "The Shape of X_train: (21226, 3)\n",
      "The Shape of X_test: (9098, 3)\n",
      "The Shape of y_train: (21226,)\n",
      "The Shape of y_test: (9098,)\n",
      "\n",
      "\n",
      "---------------------------------------------------------------------------------\n",
      "\n",
      "\n",
      "LinearRegression 0.04633325997334026\n",
      "AdaBoostRegressor -1.4840295892005426\n",
      "SVM -0.03687368245184852\n",
      "DecisionTreeRegressor 0.9957715508732332\n",
      "[13:44:23] WARNING: /workspace/src/objective/regression_obj.cu:152: reg:linear is now deprecated in favor of reg:squarederror.\n",
      "XGBRegressor 0.7232631610130955\n",
      "GradientBoostingRegressor 0.7172804361979941\n",
      "KNeighborsRegressor 0.5945476821003379\n",
      "RandomForestRegressor 0.9969365751010367\n"
     ]
    },
    {
     "data": {
      "text/html": [
       "<div>\n",
       "<style scoped>\n",
       "    .dataframe tbody tr th:only-of-type {\n",
       "        vertical-align: middle;\n",
       "    }\n",
       "\n",
       "    .dataframe tbody tr th {\n",
       "        vertical-align: top;\n",
       "    }\n",
       "\n",
       "    .dataframe thead th {\n",
       "        text-align: right;\n",
       "    }\n",
       "</style>\n",
       "<table border=\"1\" class=\"dataframe\">\n",
       "  <thead>\n",
       "    <tr style=\"text-align: right;\">\n",
       "      <th></th>\n",
       "      <th>Model</th>\n",
       "      <th>Accuracy</th>\n",
       "    </tr>\n",
       "  </thead>\n",
       "  <tbody>\n",
       "    <tr>\n",
       "      <th>0</th>\n",
       "      <td>LinearRegression</td>\n",
       "      <td>0.046333</td>\n",
       "    </tr>\n",
       "    <tr>\n",
       "      <th>1</th>\n",
       "      <td>AdaBoostRegressor</td>\n",
       "      <td>-1.484030</td>\n",
       "    </tr>\n",
       "    <tr>\n",
       "      <th>2</th>\n",
       "      <td>SVM</td>\n",
       "      <td>-0.036874</td>\n",
       "    </tr>\n",
       "    <tr>\n",
       "      <th>3</th>\n",
       "      <td>DecisionTreeRegressor</td>\n",
       "      <td>0.995772</td>\n",
       "    </tr>\n",
       "    <tr>\n",
       "      <th>4</th>\n",
       "      <td>XGBRegressor</td>\n",
       "      <td>0.723263</td>\n",
       "    </tr>\n",
       "    <tr>\n",
       "      <th>5</th>\n",
       "      <td>GradientBoostingRegressor</td>\n",
       "      <td>0.717280</td>\n",
       "    </tr>\n",
       "    <tr>\n",
       "      <th>6</th>\n",
       "      <td>KNeighborsRegressor</td>\n",
       "      <td>0.594548</td>\n",
       "    </tr>\n",
       "    <tr>\n",
       "      <th>7</th>\n",
       "      <td>RandomForestRegressor</td>\n",
       "      <td>0.996937</td>\n",
       "    </tr>\n",
       "  </tbody>\n",
       "</table>\n",
       "</div>"
      ],
      "text/plain": [
       "                       Model  Accuracy\n",
       "0           LinearRegression  0.046333\n",
       "1          AdaBoostRegressor -1.484030\n",
       "2                        SVM -0.036874\n",
       "3      DecisionTreeRegressor  0.995772\n",
       "4               XGBRegressor  0.723263\n",
       "5  GradientBoostingRegressor  0.717280\n",
       "6        KNeighborsRegressor  0.594548\n",
       "7      RandomForestRegressor  0.996937"
      ]
     },
     "execution_count": 30,
     "metadata": {},
     "output_type": "execute_result"
    }
   ],
   "source": [
    "from sklearn.model_selection import KFold, cross_val_score\n",
    "from sklearn.linear_model import LinearRegression\n",
    "from sklearn.svm import SVR\n",
    "from sklearn.tree import DecisionTreeRegressor\n",
    "from xgboost.sklearn import XGBRegressor\n",
    "from sklearn.ensemble import GradientBoostingRegressor\n",
    "from sklearn.ensemble import AdaBoostRegressor\n",
    "from sklearn.neighbors import KNeighborsRegressor\n",
    "from sklearn.ensemble import RandomForestRegressor\n",
    "from sklearn.model_selection import train_test_split\n",
    "from sklearn import metrics\n",
    "\n",
    "from sklearn.pipeline import Pipeline, make_pipeline\n",
    "\n",
    "# Tuning\n",
    "from sklearn.model_selection import GridSearchCV\n",
    "\n",
    "\n",
    "# Preprocessing\n",
    "from sklearn.preprocessing import MinMaxScaler, StandardScaler, Normalizer, Binarizer, LabelEncoder\n",
    "\n",
    "X_train, X_test, y_train, y_test = train_test_split(X, y, test_size=0.3, random_state=42, shuffle=True )\n",
    "\n",
    "print(\"The Shape of X_train:\", X_train.shape)\n",
    "print(\"The Shape of X_test:\", X_test.shape)\n",
    "print(\"The Shape of y_train:\", y_train.shape)\n",
    "print(\"The Shape of y_test:\", y_test.shape)\n",
    "print(\"\\n\\n---------------------------------------------------------------------------------\\n\\n\")\n",
    "\n",
    "models = []\n",
    "models.append(('LinearRegression', LinearRegression()))\n",
    "models.append(('AdaBoostRegressor'   , AdaBoostRegressor()))\n",
    "models.append(('SVM'  , SVR()))\n",
    "models.append(('DecisionTreeRegressor', DecisionTreeRegressor()))\n",
    "models.append(('XGBRegressor', XGBRegressor()))\n",
    "models.append(('GradientBoostingRegressor', GradientBoostingRegressor()))\n",
    "models.append(('KNeighborsRegressor', KNeighborsRegressor()))\n",
    "models.append(('RandomForestRegressor', RandomForestRegressor()))\n",
    "\n",
    "\n",
    "model_name = []\n",
    "accuracy = []\n",
    "\n",
    "for name, model in models: \n",
    "    \n",
    "    model.fit(X_train,y_train)\n",
    "    y_pred=model.predict(X_test)\n",
    "    model_name.append(name)\n",
    "    accuracy.append(metrics.r2_score(y_test,y_pred))\n",
    "    print(name, metrics.r2_score(y_test,y_pred))\n",
    "    \n",
    "Accuracy_df = pd.DataFrame({\"Model\" : model_name , \"Accuracy\" : accuracy})\n",
    "Accuracy_df"
   ]
  },
  {
   "cell_type": "code",
   "execution_count": null,
   "metadata": {
    "colab": {
     "base_uri": "https://localhost:8080/",
     "height": 438
    },
    "id": "5vsjHiPfBEIl",
    "outputId": "b51e8248-8e43-4af5-ebfd-405c1f142b87"
   },
   "outputs": [
    {
     "name": "stdout",
     "output_type": "stream",
     "text": [
      "                       Model  Accuracy\n",
      "1          AdaBoostRegressor -1.484030\n",
      "2                        SVM -0.036874\n",
      "0           LinearRegression  0.046333\n",
      "6        KNeighborsRegressor  0.594548\n",
      "5  GradientBoostingRegressor  0.717280\n",
      "4               XGBRegressor  0.723263\n",
      "3      DecisionTreeRegressor  0.995772\n",
      "7      RandomForestRegressor  0.996937\n"
     ]
    },
    {
     "data": {
      "text/plain": [
       "<BarContainer object of 8 artists>"
      ]
     },
     "execution_count": 32,
     "metadata": {},
     "output_type": "execute_result"
    },
    {
     "data": {
      "image/png": "[encoded data removed]",
      "text/plain": [
       "<Figure size 432x288 with 1 Axes>"
      ]
     },
     "metadata": {},
     "output_type": "display_data"
    }
   ],
   "source": [
    "Temp = Accuracy_df.sort_values(\"Accuracy\")\n",
    "print(Temp)\n",
    "plt.barh( Temp[\"Model\"],Temp[\"Accuracy\"] )"
   ]
  },
  {
   "cell_type": "code",
   "execution_count": null,
   "metadata": {
    "colab": {
     "base_uri": "https://localhost:8080/"
    },
    "id": "gm-R9TiWc4yv",
    "outputId": "427c78de-80fe-4d66-e189-ef5411299778"
   },
   "outputs": [
    {
     "name": "stdout",
     "output_type": "stream",
     "text": [
      "Decison Tree Regressor Model Training Score : 1.0 , Test Score : 0.9957737188237397\n"
     ]
    }
   ],
   "source": [
    "dt_final = DecisionTreeRegressor()\n",
    "dt_final = dt_final.fit(X_train, y_train)\n",
    "\n",
    "print(\"Decison Tree Regressor Model Training Score\" , \":\" , dt_final.score(X_train, y_train) , \",\" ,\n",
    "      \"Test Score\" ,\":\" , dt_final.score(X_test, y_test))"
   ]
  },
  {
   "cell_type": "code",
   "execution_count": null,
   "metadata": {
    "colab": {
     "base_uri": "https://localhost:8080/"
    },
    "id": "aiuXpneZc465",
    "outputId": "03f50126-30c5-4e53-81bf-695ac2e10e0e"
   },
   "outputs": [
    {
     "data": {
      "text/plain": [
       "array([0.11522143, 0.86470419, 0.02007438])"
      ]
     },
     "execution_count": 37,
     "metadata": {},
     "output_type": "execute_result"
    }
   ],
   "source": [
    "dt_final.feature_importances_"
   ]
  },
  {
   "cell_type": "code",
   "execution_count": null,
   "metadata": {
    "colab": {
     "base_uri": "https://localhost:8080/"
    },
    "id": "CSf5q_ACbusc",
    "outputId": "29aca722-51c7-4a9e-d712-dc093c88ccd9"
   },
   "outputs": [
    {
     "data": {
      "text/plain": [
       "3"
      ]
     },
     "execution_count": 39,
     "metadata": {},
     "output_type": "execute_result"
    }
   ],
   "source": [
    "dt_final.max_features_"
   ]
  },
  {
   "cell_type": "code",
   "execution_count": null,
   "metadata": {
    "id": "BVWT6PGsQBni"
   },
   "outputs": [],
   "source": []
  }
 ],
 "metadata": {
  "colab": {
   "collapsed_sections": [],
   "name": "Cleaning_Deaths_Region_2007-2020.ipynb",
   "provenance": []
  },
  "kernelspec": {
   "display_name": "Python 3",
   "language": "python",
   "name": "python3"
  },
  "language_info": {
   "codemirror_mode": {
    "name": "ipython",
    "version": 3
   },
   "file_extension": ".py",
   "mimetype": "text/x-python",
   "name": "python",
   "nbconvert_exporter": "python",
   "pygments_lexer": "ipython3",
   "version": "3.8.8"
  },
  "toc": {
   "base_numbering": 1,
   "nav_menu": {},
   "number_sections": false,
   "sideBar": true,
   "skip_h1_title": false,
   "title_cell": "Table of Contents",
   "title_sidebar": "Contents",
   "toc_cell": false,
   "toc_position": {},
   "toc_section_display": true,
   "toc_window_display": false
  }
 },
 "nbformat": 4,
 "nbformat_minor": 1
}
